{
 "cells": [
  {
   "cell_type": "markdown",
   "metadata": {},
   "source": [
    "## Algorithmic Toolbox notes"
   ]
  },
  {
   "cell_type": "markdown",
   "metadata": {},
   "source": [
    "#### Fibonacci Numbers"
   ]
  },
  {
   "cell_type": "code",
   "execution_count": 24,
   "metadata": {},
   "outputs": [],
   "source": [
    "import math\n",
    "import time\n",
    "\n",
    "def recursive_get_number(number_idx):\n",
    "    if number_idx <= 1:\n",
    "        return number_idx\n",
    "    else:\n",
    "        return recursive_get_number(number_idx - 1) + recursive_get_number(number_idx - 2)\n",
    "\n",
    "def slow_get_number(number_idx):\n",
    "    #generate Fibonacci sequence up to desired number, returnn number\n",
    "    sequence = [1, 1]\n",
    "    for idx in range(number_idx - 2):\n",
    "        sequence.append(sequence[idx] + sequence[idx + 1])\n",
    "    return sequence[-1]\n",
    "\n",
    "def fast_get_number(number_idx):\n",
    "    #return nth Fibonacci number at index\n",
    "    term1 = power((1 + math.sqrt(5) / 2), number_idx)\n",
    "    term2 = power((1 - math.sqrt(5) / 2), number_idx)\n",
    "    term = term1 - term2\n",
    "    \n",
    "    number = (1 / math.sqrt(5)) * (term)\n",
    "    return number\n",
    "    \n",
    "def multiply(x, array_number):\n",
    "    carry = 0\n",
    "    \n",
    "    for idx, digit in enumerate(array_number):\n",
    "        product = digit * x + carry\n",
    "        array_number[idx] = product % 10\n",
    "        carry = product // 10\n",
    "        \n",
    "    while carry:\n",
    "        array_number.append(carry % 10)\n",
    "        carry = carry // 10\n",
    "        \n",
    "    return array_number\n",
    "\n",
    "def power(x, exponent):\n",
    "    big_number_array = []\n",
    "    number = x\n",
    "    \n",
    "    while(x):\n",
    "        big_number_array.append(x % 10)\n",
    "        x = x // 10\n",
    "        \n",
    "    for i in range(2, exponent + 1):\n",
    "        big_number_array = multiply(number, big_number_array)\n",
    "        \n",
    "    return int(''.join(list(map(lambda x: str(x), big_number_array[::-1]))))\n",
    "    \n",
    "    "
   ]
  },
  {
   "cell_type": "code",
   "execution_count": 25,
   "metadata": {},
   "outputs": [
    {
     "name": "stdout",
     "output_type": "stream",
     "text": [
      "832040 0.2600688934326172\n"
     ]
    }
   ],
   "source": [
    "now = time.time()\n",
    "print(recursive_get_number(30), (time.time() - now))"
   ]
  },
  {
   "cell_type": "code",
   "execution_count": 26,
   "metadata": {},
   "outputs": [
    {
     "name": "stdout",
     "output_type": "stream",
     "text": [
      "0.3071\n"
     ]
    }
   ],
   "source": [
    "now = time.time()\n",
    "slow_get_number(100000)\n",
    "print(f'{(time.time() - now):.4}')"
   ]
  },
  {
   "cell_type": "markdown",
   "metadata": {},
   "source": [
    "### Week 4: Divide and Conquer"
   ]
  },
  {
   "cell_type": "code",
   "execution_count": 25,
   "metadata": {},
   "outputs": [],
   "source": [
    "import random\n",
    "def quicksort(int_array, left_idx, right_idx):\n",
    "    if left_idx < right_idx:\n",
    "        midpoint = partition(int_array, left_idx, right_idx)\n",
    "        quicksort(int_array, left_idx, midpoint)\n",
    "        quicksort(int_array, midpoint + 1, right_idx)\n",
    "    \n",
    "def partition(int_array, left_idx, right_idx):\n",
    "    #pivot_idx = random.randrange(left_idx, right_idx)\n",
    "    #pivot_value = int_array[pivot_idx]\n",
    "    pivot_value = int_array[left_idx]\n",
    "    pointer_left = left_idx\n",
    "    for item in range(left_idx + 1, right_idx):\n",
    "        if int_array[item] <= pivot_value:\n",
    "            pointer_left += 1\n",
    "            int_array[pointer_left], int_array[item] = int_array[item], int_array[pointer_left]\n",
    "    int_array[left_idx], int_array[pointer_left] = int_array[pointer_left], int_array[left_idx]\n",
    "    return pointer_left"
   ]
  },
  {
   "cell_type": "code",
   "execution_count": 26,
   "metadata": {},
   "outputs": [],
   "source": [
    "numbers = [9, 1, 8, 2, 9, 7, 0, 6, 3, 5, 4]\n",
    "quicksort(numbers, 0, len(numbers))"
   ]
  },
  {
   "cell_type": "code",
   "execution_count": 27,
   "metadata": {},
   "outputs": [
    {
     "data": {
      "text/plain": [
       "[0, 1, 2, 3, 4, 5, 6, 7, 8, 9, 9]"
      ]
     },
     "execution_count": 27,
     "metadata": {},
     "output_type": "execute_result"
    }
   ],
   "source": [
    "numbers"
   ]
  },
  {
   "cell_type": "code",
   "execution_count": null,
   "metadata": {},
   "outputs": [],
   "source": []
  }
 ],
 "metadata": {
  "kernelspec": {
   "display_name": "Python 3",
   "language": "python",
   "name": "python3"
  },
  "language_info": {
   "codemirror_mode": {
    "name": "ipython",
    "version": 3
   },
   "file_extension": ".py",
   "mimetype": "text/x-python",
   "name": "python",
   "nbconvert_exporter": "python",
   "pygments_lexer": "ipython3",
   "version": "3.7.3"
  }
 },
 "nbformat": 4,
 "nbformat_minor": 4
}
