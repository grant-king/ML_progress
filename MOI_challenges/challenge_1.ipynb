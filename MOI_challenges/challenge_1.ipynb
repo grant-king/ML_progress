{
 "cells": [
  {
   "cell_type": "code",
   "execution_count": null,
   "metadata": {},
   "outputs": [],
   "source": [
    "#Implement gradient descent"
   ]
  },
  {
   "cell_type": "code",
   "execution_count": null,
   "metadata": {},
   "outputs": [],
   "source": [
    "import numpy as np\n",
    "import matplotlib.pyplot as plt\n",
    "import seaborn as sns\n",
    "\n",
    "def compute_mse(m, b, points):\n",
    "    \"\"\"With slope and intercept of a line, compute \n",
    "    the mean squared error for a set of given points\"\"\"\n",
    "    total_error = 0\n",
    "    \n",
    "\n",
    "def visual_compute_mse(m, b, points):\n",
    "    \"\"\"compute the mean squared error and graph results for \n",
    "    a set of points and parameters for a line\"\"\"\n",
    "    total_error = 0\n",
    "    x = points[:, 0]\n",
    "    y = points[:, 1]\n",
    "    \n",
    "    plt.scatter(x, y, marker='.')\n",
    "    \n",
    "    #calculate points for line\n",
    "    for i in range()\n",
    "    \n",
    "    #calculate sse\n",
    "    for i in range(len(x)):\n",
    "        #sum of squared errors\n",
    "        total_error += (y[i] - (m * x[i] + b)) ** 2\n",
    "        #plt.\n",
    "    \n",
    "    plt.plot(x, y)"
   ]
  }
 ],
 "metadata": {
  "kernelspec": {
   "display_name": "Python 3",
   "language": "python",
   "name": "python3"
  },
  "language_info": {
   "codemirror_mode": {
    "name": "ipython",
    "version": 3
   },
   "file_extension": ".py",
   "mimetype": "text/x-python",
   "name": "python",
   "nbconvert_exporter": "python",
   "pygments_lexer": "ipython3",
   "version": "3.6.1"
  }
 },
 "nbformat": 4,
 "nbformat_minor": 2
}
