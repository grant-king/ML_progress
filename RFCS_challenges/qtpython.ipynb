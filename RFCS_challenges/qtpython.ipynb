{
 "cells": [
  {
   "cell_type": "markdown",
   "metadata": {},
   "source": [
    "# Interactive Computing with QT for Python"
   ]
  },
  {
   "cell_type": "markdown",
   "metadata": {},
   "source": [
    "## Basic App"
   ]
  },
  {
   "cell_type": "code",
   "execution_count": null,
   "metadata": {},
   "outputs": [],
   "source": [
    "import sys\n",
    "from PySide2.QtWidgets import QApplication, QWidget\n",
    "\n",
    "app = QApplication(sys.argv)\n",
    "\n",
    "window = QWidget()\n",
    "window.resize(500, 500)\n",
    "window.move(300, 50)\n",
    "window.setWindowTitle('Simple Window')\n",
    "window.show()\n",
    "\n",
    "sys.exit(app.exec_())"
   ]
  },
  {
   "cell_type": "markdown",
   "metadata": {},
   "source": []
  },
  {
   "cell_type": "code",
   "execution_count": null,
   "metadata": {},
   "outputs": [],
   "source": [
    "import sys\n",
    "from PySide2.QtWidgets import QApplication, QDialog, QLineEdit, QPushButton, QVBoxLayout\n",
    "\n",
    "class Form(QDialog):\n",
    "\n",
    "    def __init__(self, parent=None):\n",
    "        super(Form, self).__init__(parent)\n",
    "        self.setWindowTitle(\"My Form\")\n",
    "\n",
    "        #create widgets\n",
    "        self.text_edit = QLineEdit(\"type your name:\")\n",
    "        self.button = QPushButton(\"Show greeting\")\n",
    "\n",
    "        #add vertical layout\n",
    "        layout = QVBoxLayout()\n",
    "        layout.addWidget(self.text_edit)\n",
    "        layout.addWidget(self.button)\n",
    "\n",
    "        #set layout\n",
    "        self.setLayout(layout)\n",
    "\n",
    "        #bind event handler to button\n",
    "        self.button.clicked.connect(self.greetings)\n",
    "    \n",
    "    def greetings(self):\n",
    "        name = self.text_edit.text()\n",
    "        print(f'Hello {name}')\n",
    "\n",
    "\n",
    "if __name__ == '__main__':\n",
    "    # Create the Qt Application\n",
    "    app = QApplication(sys.argv)\n",
    "    # Create and show the form\n",
    "    form = Form()\n",
    "    form.show()\n",
    "    # Run the main Qt loop\n",
    "    sys.exit(app.exec_())"
   ]
  },
  {
   "cell_type": "markdown",
   "metadata": {},
   "source": [
    "## Week 3: drawing graphics"
   ]
  },
  {
   "cell_type": "code",
   "execution_count": null,
   "metadata": {},
   "outputs": [],
   "source": [
    "import sys\n",
    "from PySide2.QtWidgets import QApplication, QPushButton, QVBoxLayout, QWidget, QDesktopWidget, QMainWindow\n",
    "\n",
    "class Window(QMainWindow):\n",
    "\n",
    "    def __init__(self, parent=None):\n",
    "        super().__init__()\n",
    "        \n",
    "        \n",
    "        self.init_ui()\n",
    "        #create widgets\n",
    "        start_button = QPushButton('Start')\n",
    "\n",
    "        #bind event handler to button\n",
    "        #self.button.clicked.connect(self.greetings)\n",
    "        self.show()\n",
    "        \n",
    "    def init_ui(self):\n",
    "        self.setWindowTitle(\"Main Window\")\n",
    "        self.width = 500\n",
    "        self.height = 500\n",
    "        self.center()\n",
    "    \n",
    "    def center(self):\n",
    "        window_geometry = self.frameGeometry()\n",
    "        center_point = QDesktopWidget().availableGeometry().center()\n",
    "        window_geometry.moveCenter(center_point)\n",
    "        self.move(window_geometry.topLeft())\n",
    "\n",
    "if __name__ == '__main__':\n",
    "    # Create the Qt Application\n",
    "    app = QApplication(sys.argv)\n",
    "    # Create and show the form\n",
    "    watch = Window()\n",
    "    # Run the main Qt loop\n",
    "    sys.exit(app.exec_())"
   ]
  },
  {
   "cell_type": "code",
   "execution_count": null,
   "metadata": {},
   "outputs": [],
   "source": []
  },
  {
   "cell_type": "code",
   "execution_count": null,
   "metadata": {},
   "outputs": [],
   "source": []
  },
  {
   "cell_type": "code",
   "execution_count": null,
   "metadata": {},
   "outputs": [],
   "source": []
  }
 ],
 "metadata": {
  "kernelspec": {
   "display_name": "Python 3",
   "language": "python",
   "name": "python3"
  },
  "language_info": {
   "codemirror_mode": {
    "name": "ipython",
    "version": 3
   },
   "file_extension": ".py",
   "mimetype": "text/x-python",
   "name": "python",
   "nbconvert_exporter": "python",
   "pygments_lexer": "ipython3",
   "version": "3.7.3"
  }
 },
 "nbformat": 4,
 "nbformat_minor": 2
}
