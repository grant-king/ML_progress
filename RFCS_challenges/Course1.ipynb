{
 "cells": [
  {
   "cell_type": "markdown",
   "metadata": {},
   "source": [
    "## Interactive programming in Python I"
   ]
  },
  {
   "cell_type": "markdown",
   "metadata": {},
   "source": [
    "#### Week 1 project\n",
    "Build rock, paper, scissors, lizard, spock according to development process\n",
    "\n",
    "0 — rock\n",
    "\n",
    "1 — Spock\n",
    "\n",
    "2 — paper\n",
    "\n",
    "3 — lizard\n",
    "\n",
    "4 — scissors\n",
    "\n",
    "In this expanded list, each choice wins against the preceding two choices and loses against the following two choices\n",
    "\n"
   ]
  },
  {
   "cell_type": "code",
   "execution_count": null,
   "metadata": {},
   "outputs": [],
   "source": [
    "def name_to_number(name):\n",
    "    \"\"\"converts play name into integer representation\"\"\"\n",
    "    names = ['rock', 'spock', 'paper', 'lizard', 'scissors']\n",
    "    \n",
    "    if name in names:\n",
    "        return names.index(name)\n",
    "    else:\n",
    "        return f'{name} is not a valid play'\n"
   ]
  },
  {
   "cell_type": "code",
   "execution_count": null,
   "metadata": {},
   "outputs": [],
   "source": [
    "def number_to_name(number):\n",
    "    \"\"\"converts integer representation number into play name\"\"\"\n",
    "    names = ['rock', 'spock', 'paper', 'lizard', 'scissors']\n",
    "    \n",
    "    try:\n",
    "        return names[number]\n",
    "    except:\n",
    "        print(f'{number} is not a valid play number')\n",
    "        "
   ]
  },
  {
   "cell_type": "code",
   "execution_count": null,
   "metadata": {},
   "outputs": [],
   "source": [
    "def rpsls(player_choice):\n",
    "    \"\"\"Display and compare plays\"\"\"\n",
    "    import random\n",
    "    \n",
    "    #player\n",
    "    print(f'\\nPlayer chooses {player_choice}')\n",
    "    player_code = name_to_number(player_choice)\n",
    "    \n",
    "    #computer\n",
    "    computer_code = random.randrange(5)\n",
    "    print(f'Computer chooses {number_to_name(computer_code)}')\n",
    "    \n",
    "    #compare\n",
    "    compare = (computer_code - player_code) % 5\n",
    "    if compare == 0:\n",
    "        print('Player and Computer tie!')\n",
    "        return 0\n",
    "    elif compare < 3:\n",
    "        print('Computer wins!')\n",
    "        return -1\n",
    "    else:\n",
    "        print('Player wins!')\n",
    "        return 1"
   ]
  },
  {
   "cell_type": "code",
   "execution_count": null,
   "metadata": {},
   "outputs": [],
   "source": [
    "names = ['rock', 'spock', 'paper', 'lizard', 'scissors']\n",
    "\n",
    "games = [rpsls(random.choice(names)) for x in range(10)]\n"
   ]
  },
  {
   "cell_type": "markdown",
   "metadata": {},
   "source": [
    "## Week 2"
   ]
  },
  {
   "cell_type": "markdown",
   "metadata": {},
   "source": [
    "### event-driven programming\n",
    "GUI programming with wxpython"
   ]
  },
  {
   "cell_type": "code",
   "execution_count": null,
   "metadata": {},
   "outputs": [],
   "source": [
    "import wx\n",
    "\n",
    "#the most basic application\n",
    "app = wx.App()\n",
    "frame = wx.Frame(parent=None, title='Hello Frame')\n",
    "frame.Show()\n",
    "app.MainLoop()"
   ]
  },
  {
   "cell_type": "code",
   "execution_count": null,
   "metadata": {},
   "outputs": [],
   "source": [
    "#basic class-based application\n",
    "class MyFrame(wx.Frame):    \n",
    "    def __init__(self):\n",
    "        super().__init__(parent=None, title='Hello Frame')\n",
    "        self.Show()\n",
    "\n",
    "\n",
    "app = wx.App()\n",
    "frame = MyFrame()\n",
    "app.MainLoop()"
   ]
  },
  {
   "cell_type": "markdown",
   "metadata": {},
   "source": [
    "### calculator"
   ]
  },
  {
   "cell_type": "code",
   "execution_count": null,
   "metadata": {},
   "outputs": [],
   "source": [
    "import wx \n",
    "\n",
    "class MyFrame(wx.Frame):    \n",
    "    def __init__(self):\n",
    "        super().__init__(parent=None, title='Calculator')\n",
    "        #set control container panel\n",
    "        panel = wx.Panel(self)\n",
    "        \n",
    "        #add file menu\n",
    "        menu =  wx.Menu()\n",
    "        menu_exit = menu.Append(wx.ID_EXIT, 'EXIT', 'Terminate the program')\n",
    "        menu_bar = wx.MenuBar()\n",
    "        menu_bar.Append()\n",
    "        \n",
    "        #add text box and buttons\n",
    "        self.text_control = wx.TextCtrl(panel, pos=(5,5))\n",
    "        print_btn = wx.Button(panel, label='print', pos=(5, 55))\n",
    "        \n",
    "        self.Bind(wx.EVT_BUTTON, self.on_print, print_btn)\n",
    "        \n",
    "        self.Show()\n",
    "        \n",
    "    def on_print(self, event):\n",
    "        print('Print button clicked')\n",
    "        \n",
    "app = wx.App()\n",
    "frame = MyFrame()\n",
    "app.MainLoop()"
   ]
  },
  {
   "cell_type": "code",
   "execution_count": null,
   "metadata": {},
   "outputs": [],
   "source": []
  },
  {
   "cell_type": "code",
   "execution_count": null,
   "metadata": {},
   "outputs": [],
   "source": []
  }
 ],
 "metadata": {
  "kernelspec": {
   "display_name": "Python 3",
   "language": "python",
   "name": "python3"
  },
  "language_info": {
   "codemirror_mode": {
    "name": "ipython",
    "version": 3
   },
   "file_extension": ".py",
   "mimetype": "text/x-python",
   "name": "python",
   "nbconvert_exporter": "python",
   "pygments_lexer": "ipython3",
   "version": "3.7.3"
  }
 },
 "nbformat": 4,
 "nbformat_minor": 2
}
