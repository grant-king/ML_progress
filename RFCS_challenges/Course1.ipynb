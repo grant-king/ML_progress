{
 "cells": [
  {
   "cell_type": "markdown",
   "metadata": {},
   "source": [
    "## Interactive programming in Python I"
   ]
  },
  {
   "cell_type": "markdown",
   "metadata": {},
   "source": [
    "#### Week 1 project\n",
    "Build rock, paper, scissors, lizard, spock according to development process\n",
    "\n",
    "0 — rock\n",
    "\n",
    "1 — Spock\n",
    "\n",
    "2 — paper\n",
    "\n",
    "3 — lizard\n",
    "\n",
    "4 — scissors\n",
    "\n",
    "In this expanded list, each choice wins against the preceding two choices and loses against the following two choices\n",
    "\n"
   ]
  },
  {
   "cell_type": "code",
   "execution_count": 20,
   "metadata": {},
   "outputs": [],
   "source": [
    "def name_to_number(name):\n",
    "    \"\"\"converts play name into integer representation\"\"\"\n",
    "    names = ['rock', 'spock', 'paper', 'lizard', 'scissors']\n",
    "    \n",
    "    if name in names:\n",
    "        return names.index(name)\n",
    "    else:\n",
    "        return f'{name} is not a valid play'\n"
   ]
  },
  {
   "cell_type": "code",
   "execution_count": 21,
   "metadata": {},
   "outputs": [],
   "source": [
    "def number_to_name(number):\n",
    "    \"\"\"converts integer representation number into play name\"\"\"\n",
    "    names = ['rock', 'spock', 'paper', 'lizard', 'scissors']\n",
    "    \n",
    "    try:\n",
    "        return names[number]\n",
    "    except:\n",
    "        print(f'{number} is not a valid play number')\n",
    "        "
   ]
  },
  {
   "cell_type": "code",
   "execution_count": 29,
   "metadata": {},
   "outputs": [],
   "source": [
    "def rpsls(player_choice):\n",
    "    \"\"\"Display and compare plays\"\"\"\n",
    "    import random\n",
    "    \n",
    "    #player\n",
    "    print(f'\\nPlayer chooses {player_choice}')\n",
    "    player_code = name_to_number(player_choice)\n",
    "    \n",
    "    #computer\n",
    "    computer_code = random.randrange(5)\n",
    "    print(f'Computer chooses {number_to_name(computer_code)}')\n",
    "    \n",
    "    #compare\n",
    "    compare = (computer_code - player_code) % 5\n",
    "    if compare == 0:\n",
    "        print('Player and Computer tie!')\n",
    "        return 0\n",
    "    elif compare < 3:\n",
    "        print('Computer wins!')\n",
    "        return -1\n",
    "    else:\n",
    "        print('Player wins!')\n",
    "        return 1"
   ]
  },
  {
   "cell_type": "code",
   "execution_count": 34,
   "metadata": {},
   "outputs": [
    {
     "name": "stdout",
     "output_type": "stream",
     "text": [
      "\n",
      "Player chooses lizard\n",
      "Computer chooses paper\n",
      "Player wins!\n",
      "\n",
      "Player chooses paper\n",
      "Computer chooses spock\n",
      "Player wins!\n",
      "\n",
      "Player chooses spock\n",
      "Computer chooses spock\n",
      "Player and Computer tie!\n",
      "\n",
      "Player chooses spock\n",
      "Computer chooses lizard\n",
      "Computer wins!\n",
      "\n",
      "Player chooses spock\n",
      "Computer chooses spock\n",
      "Player and Computer tie!\n",
      "\n",
      "Player chooses scissors\n",
      "Computer chooses paper\n",
      "Player wins!\n",
      "\n",
      "Player chooses spock\n",
      "Computer chooses rock\n",
      "Player wins!\n",
      "\n",
      "Player chooses paper\n",
      "Computer chooses rock\n",
      "Player wins!\n",
      "\n",
      "Player chooses lizard\n",
      "Computer chooses spock\n",
      "Player wins!\n",
      "\n",
      "Player chooses lizard\n",
      "Computer chooses lizard\n",
      "Player and Computer tie!\n"
     ]
    }
   ],
   "source": [
    "names = ['rock', 'spock', 'paper', 'lizard', 'scissors']\n",
    "\n",
    "games = [rpsls(random.choice(names)) for x in range(10)]\n"
   ]
  },
  {
   "cell_type": "code",
   "execution_count": 35,
   "metadata": {},
   "outputs": [
    {
     "data": {
      "text/plain": [
       "[1, 1, 0, -1, 0, 1, 1, 1, 1, 0]"
      ]
     },
     "execution_count": 35,
     "metadata": {},
     "output_type": "execute_result"
    }
   ],
   "source": [
    "games"
   ]
  },
  {
   "cell_type": "code",
   "execution_count": 36,
   "metadata": {},
   "outputs": [
    {
     "data": {
      "text/plain": [
       "5"
      ]
     },
     "execution_count": 36,
     "metadata": {},
     "output_type": "execute_result"
    }
   ],
   "source": [
    "sum(games)"
   ]
  },
  {
   "cell_type": "code",
   "execution_count": null,
   "metadata": {},
   "outputs": [],
   "source": []
  }
 ],
 "metadata": {
  "kernelspec": {
   "display_name": "Python 3",
   "language": "python",
   "name": "python3"
  },
  "language_info": {
   "codemirror_mode": {
    "name": "ipython",
    "version": 3
   },
   "file_extension": ".py",
   "mimetype": "text/x-python",
   "name": "python",
   "nbconvert_exporter": "python",
   "pygments_lexer": "ipython3",
   "version": "3.7.3"
  }
 },
 "nbformat": 4,
 "nbformat_minor": 2
}
