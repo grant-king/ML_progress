{
 "cells": [
  {
   "cell_type": "code",
   "execution_count": 2,
   "metadata": {},
   "outputs": [],
   "source": [
    "import numpy as numpy \n",
    "from functools import partial\n",
    "import PIL.Image\n",
    "import tensorflow as tf\n",
    "import urllib.request\n",
    "import zipfile\n",
    "import os\n",
    "\n"
   ]
  },
  {
   "cell_type": "markdown",
   "metadata": {},
   "source": [
    "Download Inception\n",
    "create TF session\n",
    "Pick a layer to enhance our image\n",
    "apply gradient ascent to that layer\n",
    "output image"
   ]
  },
  {
   "cell_type": "code",
   "execution_count": 3,
   "metadata": {},
   "outputs": [],
   "source": [
    "#download google's pre-trained model\n",
    "url = 'https://storage.googleapis.com/download.tensorflow.org/models/inception5h.zip'\n",
    "data_dir = '../data'\n",
    "model_name = os.path.split(url)[-1]\n",
    "local_zip_file = os.path.join(data_dir, model_name)\n",
    "if not os.path.exists(local_zip_file):\n",
    "    model_url = urllib.request.urlopen(url)\n",
    "    with open(local_zip_file, 'wb') as output:\n",
    "        output.write(model_url.read())\n",
    "        \n",
    "    with zipfile.ZipFile(local_zip_file, 'r') as zip_ref:\n",
    "        zip_ref.extractall(data_dir)\n",
    "        \n",
    "model_fn = 'tensorflow_inception_graph.pb'\n",
    "\n"
   ]
  },
  {
   "cell_type": "code",
   "execution_count": null,
   "metadata": {},
   "outputs": [],
   "source": [
    "#create TF session and load the model\n",
    "graph = tf.Graph()\n",
    "session = tf.InteractiveSession(graph=graph)\n",
    "with tf.gfile.FastGFile(os.path.join(data_dir, model_fn), 'rb') as f:\n",
    "    graph_def = tf.Graphtf.GraphDef()\n",
    "    graph_def.ParseFromString(f.read())\n",
    "t_input - tf.placeholder(np.float32, name='input')\n",
    "imagenet_mean = 117.0\n",
    "t_preprocessed = tf.expand_dims(t_input - imagenet_mean, 0)\n",
    "tf.import_graph_def(graph_def, {'input':t_preprocessed})\n",
    "\n",
    "layers = [op.name for op in graph.get_iperations() if op.type=='Conv2D' and 'imporrt/' in op.name]\n",
    "feature_nums = [int(graph.get_tensor by name(name+':0').get_shape()[-1]) for name in layers]\n",
    "\n",
    "print('Number of layers', len(layers))\n",
    "print('Total number of feature channels:', sum(feature_nums))\n"
   ]
  }
 ],
 "metadata": {
  "kernelspec": {
   "display_name": "Python 3",
   "language": "python",
   "name": "python3"
  },
  "language_info": {
   "codemirror_mode": {
    "name": "ipython",
    "version": 3
   },
   "file_extension": ".py",
   "mimetype": "text/x-python",
   "name": "python",
   "nbconvert_exporter": "python",
   "pygments_lexer": "ipython3",
   "version": "3.6.1"
  }
 },
 "nbformat": 4,
 "nbformat_minor": 2
}
