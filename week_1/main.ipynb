{
 "cells": [
  {
   "cell_type": "markdown",
   "metadata": {},
   "source": [
    "## Basic Optimization\n",
    "\n",
    "In this first introductory video of *The Math of Intelligence*, Siraj explains the foundation of optimization, and how a computer can find it with basic calculus.\n",
    "\n",
    "This is the first of several videos describing how ML algorithms are written, in order to teach the intuition needed to use higher-level tools effectively.\n",
    "\n",
    "ML is about mathmatical optimization. ML algorithms find an optimal solution by minimizing some predefined error. Optimization can be applied everywhere.\n",
    "\n",
    "Suprividsed learning is a simple type of learning that uses labeled data to determine an optimal solution. \n"
   ]
  },
  {
   "cell_type": "markdown",
   "metadata": {},
   "source": [
    "Linear regression involves fitting a straight line to some data. y=mx+b is the algebraic formula describing a striaght line.\n",
    "\n",
    "This formula can also be written as:\n",
    "\n",
    "y = B0 + B1 * x\n",
    "\n",
    "This is a line where y is the output for some value of inputs x and initial estimations for the coefficients. \n",
    "\n",
    "The coefficient B0 is the y-intercept, also known as the bias. This is added to vertically offset all other points along the graph of the function representing the prediction y for input x. \n",
    "\n",
    "B1 is the line's slope coefficient."
   ]
  },
  {
   "cell_type": "markdown",
   "metadata": {},
   "source": [
    "### Gradient Descent\n",
    "Gradient descent is based on using gradients to update the model parameters until a minimum is found and the gradient becomes zero. This method is used to find a global minimum on convex functions."
   ]
  },
  {
   "cell_type": "code",
   "execution_count": 1,
   "metadata": {},
   "outputs": [],
   "source": [
    "from bokeh.plotting import figure\n",
    "from bokeh.io import show\n",
    "import numpy as np\n",
    "import random"
   ]
  },
  {
   "cell_type": "code",
   "execution_count": 2,
   "metadata": {},
   "outputs": [],
   "source": [
    "#using y = mx+ b\n",
    "#the error value for a set of points and a particular line can be computed by\n",
    "def MSE_compute(b, m, points):\n",
    "    total_error = 0\n",
    "    #print(range(len(points)))\n",
    "    for i in range(len(points)):\n",
    "        x = points[i, 0]\n",
    "        y = points[i, 1]\n",
    "        total_error += (y - (m * x + b)) ** 2\n",
    "    return total_error / len(points)\n"
   ]
  },
  {
   "cell_type": "markdown",
   "metadata": {},
   "source": [
    "# If the ablove function were run thousands of times and error values were graphed in 3 dimensions as:\n",
    "z = error\n",
    "\n",
    "y = y-intercept (b)\n",
    "\n",
    "x = slope (m)\n",
    "\n",
    "We can see a 3d parabola with the valley of minimum values. "
   ]
  },
  {
   "cell_type": "code",
   "execution_count": 13,
   "metadata": {},
   "outputs": [],
   "source": [
    "def runner(points, starting_b, starting_m, num_iterations):\n",
    "    b = starting_b\n",
    "    m = starting_m\n",
    "    \n",
    "    for i in range(num_iterations):\n",
    "        b, m = step_gradient(b, m, np.array(points))\n",
    "    return [b, m]"
   ]
  },
  {
   "cell_type": "code",
   "execution_count": 14,
   "metadata": {},
   "outputs": [],
   "source": [
    "#determine direction of minima by finding derivative at point to know where to redraw\n",
    "def step_gradient(b_current, m_current, points):\n",
    "    b_gradient = 0\n",
    "    m_gradient = 0\n",
    "    N = float(len(points))\n",
    "    \n",
    "    for i in range(0, len(points)):\n",
    "        x = points[i, 0]\n",
    "        y = points[i, 1]\n",
    "        #power rule\n",
    "        b_gradient += -(2/N) * (y - ((m_current * x ) + b_current))\n",
    "        m_gradient += -(2/N) * x * (y - ((m_current*x) + b_current))\n",
    "    new_b = b_current - b_gradient\n",
    "    new_m = m_current - m_gradient\n",
    "    \n",
    "    return [new_b, new_m]"
   ]
  },
  {
   "cell_type": "code",
   "execution_count": 28,
   "metadata": {},
   "outputs": [
    {
     "data": {
      "text/plain": [
       "[(-61.5, -5243.999999999999),\n",
       " (60.269999999999996, -3351.5999999999995),\n",
       " (59.04, -8317.44),\n",
       " (-115.62, -6215.28),\n",
       " (-113.16, -8809.92),\n",
       " (-55.35, -1231.1999999999998),\n",
       " (-108.24, -3410.8799999999997),\n",
       " (-793.35, -8235.359999999999),\n",
       " (-878.2199999999999, -8426.88),\n",
       " (-252.15, -4673.999999999999),\n",
       " (98.4, -5107.199999999999),\n",
       " (-191.88, -4268.16),\n",
       " (-420.66, -7624.319999999999),\n",
       " (-45.51, -1181.04),\n",
       " (-442.8, -2462.4),\n",
       " (-43.05, -6224.4),\n",
       " (-710.94, -620.16),\n",
       " (-121.76999999999998, -4965.839999999999),\n",
       " (-511.68, -875.52),\n",
       " (-724.47, -141.35999999999999),\n",
       " (-73.8, -410.4),\n",
       " (-35.67, -5554.079999999999),\n",
       " (-309.96, 127.67999999999999),\n",
       " (-498.15000000000003, -4924.799999999999),\n",
       " (-191.88, -3082.5599999999995),\n",
       " (-153.75, -227.99999999999997),\n",
       " (-590.4, -1203.84),\n",
       " (-396.06, -2412.24),\n",
       " (-270.59999999999997, -3611.5199999999995),\n",
       " (-154.98, -3160.08),\n",
       " (-0.0, -2462.3999999999996),\n",
       " (-420.66, -606.4799999999999),\n",
       " (-22.14, -1641.6),\n",
       " (-376.38, -1782.9599999999998),\n",
       " (-236.16, -1094.3999999999999),\n",
       " (-73.8, -410.4),\n",
       " (-137.76, -1723.6799999999998),\n",
       " (-223.86, -177.83999999999997),\n",
       " (-177.12, -328.32),\n",
       " (-54.12, -1304.1599999999999),\n",
       " (-49.2, -1139.9999999999998),\n",
       " (-55.35, -123.12),\n",
       " (-157.44, -1605.12),\n",
       " (-34.44, -1181.04),\n",
       " (-147.6, -601.92),\n",
       " (-92.25, -296.4),\n",
       " (14.76, -802.56),\n",
       " (11.07, -300.96),\n",
       " (-14.76, -373.91999999999996),\n",
       " (-2.46, 9.12),\n",
       " (0.0, 0.0),\n",
       " (15.99, 150.48),\n",
       " (19.68, 27.36),\n",
       " (44.28, 478.8),\n",
       " (34.44, 364.79999999999995),\n",
       " (92.25, 182.39999999999998),\n",
       " (59.04, 738.72),\n",
       " (172.2, 798.0),\n",
       " (177.12, 1605.12),\n",
       " (66.42, 1436.3999999999999),\n",
       " (-12.3, 820.8),\n",
       " (-27.06, 1504.8),\n",
       " (44.28, -273.6),\n",
       " (-47.97, -118.55999999999999),\n",
       " (-34.44, 2489.7599999999998),\n",
       " (73.8, -205.2),\n",
       " (-19.68, 1386.2399999999998),\n",
       " (0.0, 465.12),\n",
       " (354.24, 820.8),\n",
       " (373.92, 3638.879999999999),\n",
       " (369.0, -91.19999999999999),\n",
       " (516.5999999999999, 3734.6399999999994),\n",
       " (108.24, 401.28),\n",
       " (56.58, 2831.7599999999998),\n",
       " (118.08, 3830.4),\n",
       " (215.25, 2735.9999999999995),\n",
       " (319.8, 829.92),\n",
       " (66.42, 1231.1999999999998),\n",
       " (275.52, 2298.24),\n",
       " (71.34, 925.6799999999998),\n",
       " (221.39999999999998, 2872.7999999999997),\n",
       " (114.39000000000001, 3533.9999999999995),\n",
       " (0.0, 3939.8399999999997),\n",
       " (324.71999999999997, 4514.4),\n",
       " (0.0, 2170.56),\n",
       " (731.8499999999999, 798.0),\n",
       " (-132.84, 3283.2),\n",
       " (546.12, 2699.52),\n",
       " (420.66, 5025.119999999999),\n",
       " (767.52, 6757.919999999999),\n",
       " (836.4000000000001, 7660.799999999999),\n",
       " (857.31, 4300.08),\n",
       " (-103.32, -574.56),\n",
       " (634.6800000000001, 1764.7199999999998),\n",
       " (703.56, -1003.1999999999999),\n",
       " (55.35, 6156.0),\n",
       " (-113.16, -1048.8),\n",
       " (404.67, -428.64),\n",
       " (236.16, 5690.88),\n",
       " (1205.3999999999999, 3128.1599999999994)]"
      ]
     },
     "execution_count": 28,
     "metadata": {},
     "output_type": "execute_result"
    }
   ],
   "source": [
    "#generate toy data\n",
    "toy_x = [i*1.23*random.randint(-3, 20) for i in range(-50, 50)]\n",
    "toy_y = [i*4.56*random.randint(-5, 45) for i in range(-50, 50)]\n",
    "\n",
    "datapoints = list(zip(toy_x, toy_y))\n",
    "#datapoints = np.array(datapoints)\n",
    "#print(datapoints)\n",
    "datapoints"
   ]
  },
  {
   "cell_type": "code",
   "execution_count": 26,
   "metadata": {},
   "outputs": [
    {
     "data": {
      "text/plain": [
       "[-9.6881750273114389e+27, -4.2584619172752248e+32]"
      ]
     },
     "execution_count": 26,
     "metadata": {},
     "output_type": "execute_result"
    }
   ],
   "source": [
    "runner(datapoints, 2, 21, 5)"
   ]
  },
  {
   "cell_type": "code",
   "execution_count": 18,
   "metadata": {},
   "outputs": [],
   "source": [
    "#plot demonstraton\n",
    "\n",
    "#add z when working\n",
    "plot = figure()\n",
    "\n",
    "plot.circle(toy_x, toy_y)\n",
    "#plot.line()\n",
    "\n",
    "show(plot)"
   ]
  },
  {
   "cell_type": "markdown",
   "metadata": {},
   "source": [
    "How can a computer calculate which line has the least error?\n",
    "\n",
    "Using calculus the valley of minimum error can be determined by calculating where the derivative = 0\n",
    "\n",
    "Rather than randomly drawing lines, calculate the derivitive of some function at a given point. The derivative will point towards the minima, giving the algorithm feedback as to where"
   ]
  },
  {
   "cell_type": "code",
   "execution_count": null,
   "metadata": {},
   "outputs": [],
   "source": []
  }
 ],
 "metadata": {
  "kernelspec": {
   "display_name": "Python 3",
   "language": "python",
   "name": "python3"
  },
  "language_info": {
   "codemirror_mode": {
    "name": "ipython",
    "version": 3
   },
   "file_extension": ".py",
   "mimetype": "text/x-python",
   "name": "python",
   "nbconvert_exporter": "python",
   "pygments_lexer": "ipython3",
   "version": "3.6.1"
  }
 },
 "nbformat": 4,
 "nbformat_minor": 2
}
