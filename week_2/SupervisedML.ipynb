{
 "cells": [
  {
   "cell_type": "markdown",
   "metadata": {},
   "source": [
    "## Supervised Learning \n",
    "\n",
    "This notebook follows the module 2 videos to illustrate an overview of concepts of supervised machine learning\n"
   ]
  },
  {
   "cell_type": "code",
   "execution_count": 14,
   "metadata": {},
   "outputs": [],
   "source": [
    "import pandas as pd\n",
    "import matplotlib.pyplot as plt\n",
    "from sklearn.datasets import make_regression, make_friedman1, make_classification\n",
    "\n",
    "from sklearn.datasets import make_classification, make_blobs\n",
    "from matplotlib.colors import ListedColormap\n",
    "from sklearn.datasets import load_breast_cancer\n"
   ]
  },
  {
   "cell_type": "code",
   "execution_count": 15,
   "metadata": {},
   "outputs": [],
   "source": [
    "#load fruit data\n",
    "fruits = pd.read_table('fruit_data_with_colors.txt')\n",
    "X_fruits = fruits[['height', 'width', 'mass', 'color_score']]\n",
    "y_frits = fruits['fruit_label']\n",
    "target_names_fruits = ['apple', 'mandarin', 'orange', 'lemon']\n",
    "\n",
    "cmap_bold = ListedColormap(['#FFFF00', '#00F00', '#0000FF', '#000000'])\n",
    "\n",
    "#make low-dimensional set \n",
    "X_fruits_2d = fruits[['height', 'width']]\n",
    "y_frits_2d = fruits['fruit_label']"
   ]
  },
  {
   "cell_type": "code",
   "execution_count": 16,
   "metadata": {},
   "outputs": [
    {
     "data": {
      "image/png": "[encoded data removed]",
      "text/plain": [
       "<matplotlib.figure.Figure at 0x1cfa4d85c88>"
      ]
     },
     "metadata": {},
     "output_type": "display_data"
    }
   ],
   "source": [
    "#synthetic datasets allow for easy low-dimensional visualization\n",
    "plt.figure()\n",
    "plt.title('Sample regression problem with one input variable')\n",
    "X_R1, y_R1 = make_regression(n_samples=100, n_features=1, n_informative=1, bias=150.0, noise=25, random_state=0)\n",
    "\n",
    "plt.scatter(X_R1, y_R1, marker='o', s=50)\n",
    "plt.show()"
   ]
  },
  {
   "cell_type": "code",
   "execution_count": 17,
   "metadata": {},
   "outputs": [
    {
     "data": {
      "image/png": "[encoded data removed]",
      "text/plain": [
       "<matplotlib.figure.Figure at 0x1cfa4cacf28>"
      ]
     },
     "metadata": {},
     "output_type": "display_data"
    }
   ],
   "source": [
    "plt.figure()\n",
    "plt.title('Complex regression problem with one input variable')\n",
    "X_F1, y_F1 = make_friedman1(n_samples=100, n_features=7, random_state=0)\n",
    "\n",
    "plt.scatter(X_F1[:, 2], y_F1, marker='o', s=50, cmap=cmap_bold)\n",
    "plt.show()"
   ]
  },
  {
   "cell_type": "code",
   "execution_count": null,
   "metadata": {},
   "outputs": [],
   "source": [
    "plt.figure()\n",
    "plt.title('Sample binary classification problem with two informative features')\n",
    "X_C2, y_C2 = make_classification(n_samples=100, n_features=2, n_redundant=0, n_informative=2, \n",
    "                                n_clusters_per_class=1, flip_y=0.1, class_sep=0.5, random_state=0)\n",
    "#plt.show()"
   ]
  },
  {
   "cell_type": "raw",
   "metadata": {},
   "source": [
    "#us crime and safety dataset, for complex binary classification\n",
    "from adspy_shared_utilities import load_crime_dataset\n",
    "#crime = load_crime_dataset()\n",
    "\n",
    "X_D2, y_D2 = make_blobs(n_samples=100, n_features=2, centers=8, cluster_std=1.3, random_state=0)\n",
    "\n",
    "y_D2 = y_D2 % 2\n",
    "plt.figure()\n",
    "plt.title('Sample binary classification problem with non-linearly separable classes')\n",
    "plt.scatter(X_D2[:,0], X_D2[:,1], c=y_D2, marker='o', s=50, cmap=cmap_bold)\n",
    "plt.show()\n",
    "\n",
    "cancer = load_breast_cancer()\n",
    "(X_cancer, y_cancer) = load_breast_cancer(return_X_y=True)\n",
    "\n",
    "(X_crime, y_crime) = load_crime_dataset()\n"
   ]
  },
  {
   "cell_type": "code",
   "execution_count": null,
   "metadata": {},
   "outputs": [],
   "source": [
    "#to perform lse linear regression\n",
    "#linear regression: least-squares ~12 min\n",
    "\n",
    "#ridge regression is similar to lse linear regression except that it adds a \n",
    "#regularizing penalty during training that allows the model to better generalize for new data\n"
   ]
  },
  {
   "cell_type": "markdown",
   "metadata": {},
   "source": [
    "#### Feature preprocessing:\n",
    "Using MinMaxScaler()"
   ]
  },
  {
   "cell_type": "code",
   "execution_count": null,
   "metadata": {},
   "outputs": [],
   "source": [
    "#MinMax scaling\n",
    "#it is important to first normalize each feature x by translating every value of each feature into a value btw 0 and 1:\n",
    "#first compute minimum and maximum values for each feature in training data, then for each instance:\n",
    "#x_in_normal = (x_in - x_in_min)/(x_in_max - x_in_min)\n",
    "\n",
    "#to do this with a tool in sklearn\n",
    "from sklearn.preprocessing\n",
    "\"\"\"\n",
    "scaler = MinMaxScaler()\n",
    "scaler.fit(X_train)\n",
    "X_train_scaled = scaler.transform(X_train)\n",
    "X_test_scaled = scaler.transform(X_test)\n",
    "clf = Ridge().fit(X_train_scaled, y_train)\n",
    "r2_score = clf.score(X_test_scaled, y_test)\n",
    "\"\"\"\n",
    "\n",
    "#it can be more efficient to fit and transform together using the fit_transform method on training set\n",
    "scaler = MinMaxScaler()\n",
    "X_train_scaled = scaler.fit_transform(X_train)\n"
   ]
  },
  {
   "cell_type": "markdown",
   "metadata": {},
   "source": [
    "### ridge regression with normalization"
   ]
  },
  {
   "cell_type": "code",
   "execution_count": null,
   "metadata": {},
   "outputs": [],
   "source": [
    "from sklearn.preprocessing import MinMaxScaler\n",
    "scaler = MinMaxScaler()\n",
    "\n",
    "from sklearn.linear_model import Ridge\n",
    "X_train, X_test, Y_train, Y_test = train_test_ssplit(X_crime, y_crime, random_state = 0)\n",
    "\n",
    "X_train_scaled = scaler.fit_transform(X_train)\n",
    "X_test_scaled = scaler.transform(X_test)\n",
    "\n",
    "#items ending in _ are generated from training set\n",
    "linridge = Ridge(alpha-20.0).fit(X_train_scaled, y_train)\n",
    "print('dataset')\n",
    "print('ridge regression linear model intercept: {}'.format(linridge.intercept_))\n",
    "print('ridge regression linear model coeff:\\n{}'.format(linridge.coef_))\n",
    "print('R-squared score (training): {:.3f}'.format(linridge.score(X_train_scaled, y_train)))\n",
    "print('R=squared score (test): {:.3f}'.format(linridge.score(X_test_scaled, y_test)))\n",
    "print('Number of non-zero features: {}'.format(np.sum(linridge.coef_!=0)))\n",
    " "
   ]
  },
  {
   "cell_type": "code",
   "execution_count": null,
   "metadata": {},
   "outputs": [],
   "source": [
    "#polynomial regression\n",
    "poly = PolynomialFeatures(degree-2)\n",
    "X_F1_poly = poly.fit_transform(X_F1)\n",
    "\n",
    "X_train, X_test, y_train, y_test = train_test_split(X_F1_poly, y_F1, random_state=0)\n",
    "\n",
    "#variables ending with '_' represent values generated by trained model\n",
    "linreg = LinearRegression().fit(X_train, y_train)\n",
    "print(linreg.coef_)\n",
    "print(linreg.intercept_)"
   ]
  }
 ],
 "metadata": {
  "kernelspec": {
   "display_name": "Python 3",
   "language": "python",
   "name": "python3"
  },
  "language_info": {
   "codemirror_mode": {
    "name": "ipython",
    "version": 3
   },
   "file_extension": ".py",
   "mimetype": "text/x-python",
   "name": "python",
   "nbconvert_exporter": "python",
   "pygments_lexer": "ipython3",
   "version": "3.6.1"
  }
 },
 "nbformat": 4,
 "nbformat_minor": 2
}
