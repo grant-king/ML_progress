{
 "cells": [
  {
   "cell_type": "markdown",
   "metadata": {},
   "source": [
    "## Supervised Learning \n",
    "\n",
    "This notebook follows the module 2 videos to illustrate an overview of concepts of supervised machine learning"
   ]
  },
  {
   "cell_type": "code",
   "execution_count": null,
   "metadata": {},
   "outputs": [],
   "source": [
    "#load data\n",
    "\n",
    "#synthetic datasets allow for easy low-dimensional visualization\n",
    "cmap_bold = ListedColormap(['#FFFF00', '#00F00', '#0000FF', '#000000'])\n",
    "\n",
    "fruits = pd.read_table('fruit_data_with_colors.txt')"
   ]
  }
 ],
 "metadata": {
  "kernelspec": {
   "display_name": "Python 3",
   "language": "python",
   "name": "python3"
  },
  "language_info": {
   "codemirror_mode": {
    "name": "ipython",
    "version": 3
   },
   "file_extension": ".py",
   "mimetype": "text/x-python",
   "name": "python",
   "nbconvert_exporter": "python",
   "pygments_lexer": "ipython3",
   "version": "3.6.1"
  }
 },
 "nbformat": 4,
 "nbformat_minor": 2
}
