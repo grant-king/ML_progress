{
 "cells": [
  {
   "cell_type": "markdown",
   "metadata": {},
   "source": [
    "## Mailing with Python and SMTPlib"
   ]
  },
  {
   "cell_type": "code",
   "execution_count": 7,
   "metadata": {},
   "outputs": [],
   "source": [
    "import smtplib\n",
    "import os\n",
    "\n",
    "from email.mime.multipart import MIMEMultipart\n",
    "from email.mime.text import MIMEText\n",
    "\n",
    "passkey = os.environ.get('auto_mailkey')\n",
    "from_account = os.environ.get('auto_mailaccount')"
   ]
  },
  {
   "cell_type": "markdown",
   "metadata": {},
   "source": [
    "#### simple email"
   ]
  },
  {
   "cell_type": "code",
   "execution_count": 6,
   "metadata": {},
   "outputs": [
    {
     "data": {
      "text/plain": [
       "(221, b'2.0.0 closing connection l19sm51796125pff.1 - gsmtp')"
      ]
     },
     "execution_count": 6,
     "metadata": {},
     "output_type": "execute_result"
    }
   ],
   "source": [
    "body = \"\"\"Hello Email\"\"\"\n",
    "\n",
    "#securely connect to server\n",
    "smtp_server = smtplib.SMTP('smtp.gmail.com', 587)\n",
    "smtp_server.ehlo() #initiate contact with server\n",
    "smtp_server.starttls()\n",
    "\n",
    "smtp_server.login(from_account, passkey)\n",
    "smtp_server.sendmail(from_account, 'grantryan.king@gmail.com', body)\n",
    "smtp_server.quit()"
   ]
  },
  {
   "cell_type": "markdown",
   "metadata": {},
   "source": [
    "#### Multipart email MIME"
   ]
  },
  {
   "cell_type": "code",
   "execution_count": 9,
   "metadata": {},
   "outputs": [],
   "source": [
    "msg = MIMEMultipart()\n",
    "msg['From'] = from_account\n",
    "msg['To'] = 'grantryan.king@gmail.com'\n",
    "msg['Subject'] = 'Subject Title'\n",
    "body = \"\"\"Multipart email\"\"\"\n",
    "\n",
    "msg.attach(MIMEText(body, 'plain')) #'html' also optional"
   ]
  },
  {
   "cell_type": "code",
   "execution_count": 10,
   "metadata": {},
   "outputs": [
    {
     "name": "stdout",
     "output_type": "stream",
     "text": [
      "Email sent successfully\n"
     ]
    }
   ],
   "source": [
    "#securely connect to server\n",
    "smtp_server = smtplib.SMTP('smtp.gmail.com', 587)\n",
    "smtp_server.ehlo() #initiate contact with server\n",
    "smtp_server.starttls()\n",
    "\n",
    "smtp_server.login(from_account, passkey)\n",
    "text = msg.as_string()\n",
    "smtp_server.sendmail(from_account, 'grantryan.king@gmail.com', text)\n",
    "smtp_server.quit()\n",
    "\n",
    "print('Email sent successfully')"
   ]
  },
  {
   "cell_type": "markdown",
   "metadata": {},
   "source": [
    "#### Blind CC option"
   ]
  },
  {
   "cell_type": "code",
   "execution_count": null,
   "metadata": {},
   "outputs": [],
   "source": [
    "msg = MIMEMultipart()\n",
    "msg['From'] = from_account\n",
    "msg['To'] = 'grantryan.king@gmail.com'\n",
    "msg['Subject'] = 'Subject Title'\n",
    "body = \"\"\"Multipart email\"\"\"\n",
    "#define bcc outside of multipart dict aceess to ensure blindness is respected\n",
    "bcc = ['g.rantryanking@gmail.com', 'grantryanking@gmail.com']\n",
    "\n",
    "msg.attach(MIMEText(body, 'plain')) #'html' also optional\n",
    "\n",
    "#securely connect to server\n",
    "smtp_server = smtplib.SMTP('smtp.gmail.com', 587)\n",
    "smtp_server.ehlo() #initiate contact with server\n",
    "smtp_server.starttls()\n",
    "\n",
    "smtp_server.login(from_account, passkey)\n",
    "text = msg.as_string()\n",
    "smtp_server.sendmail(from_account, 'grantryan.king@gmail.com' + bcc, text)\n",
    "smtp_server.quit()\n",
    "\n",
    "print('Email sent successfully')"
   ]
  }
 ],
 "metadata": {
  "kernelspec": {
   "display_name": "Python 3",
   "language": "python",
   "name": "python3"
  },
  "language_info": {
   "codemirror_mode": {
    "name": "ipython",
    "version": 3
   },
   "file_extension": ".py",
   "mimetype": "text/x-python",
   "name": "python",
   "nbconvert_exporter": "python",
   "pygments_lexer": "ipython3",
   "version": "3.7.1"
  }
 },
 "nbformat": 4,
 "nbformat_minor": 2
}
