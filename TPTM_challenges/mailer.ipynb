{
 "cells": [
  {
   "cell_type": "markdown",
   "metadata": {},
   "source": [
    "## Mailing with Python and SMTPlib"
   ]
  },
  {
   "cell_type": "code",
   "execution_count": 1,
   "metadata": {},
   "outputs": [],
   "source": [
    "import smtplib\n",
    "import os\n",
    "\n",
    "from email.mime.multipart import MIMEMultipart\n",
    "from email.mime.text import MIMEText\n",
    "\n",
    "passkey = os.environ.get('auto_mailkey')\n",
    "from_account = os.environ.get('auto_mailaccount')"
   ]
  },
  {
   "cell_type": "markdown",
   "metadata": {},
   "source": [
    "#### simple email"
   ]
  },
  {
   "cell_type": "code",
   "execution_count": null,
   "metadata": {},
   "outputs": [],
   "source": [
    "body = \"\"\"Hello Email\"\"\"\n",
    "\n",
    "#securely connect to server\n",
    "smtp_server = smtplib.SMTP('smtp.gmail.com', 587)\n",
    "smtp_server.ehlo() #initiate contact with server\n",
    "smtp_server.starttls()\n",
    "\n",
    "smtp_server.login(from_account, passkey)\n",
    "smtp_server.sendmail(from_account, 'grantryan.king@gmail.com', body)\n",
    "smtp_server.quit()"
   ]
  },
  {
   "cell_type": "markdown",
   "metadata": {},
   "source": [
    "#### Multipart email MIME"
   ]
  },
  {
   "cell_type": "code",
   "execution_count": null,
   "metadata": {},
   "outputs": [],
   "source": [
    "msg = MIMEMultipart()\n",
    "msg['From'] = from_account\n",
    "msg['To'] = 'grantryan.king@gmail.com'\n",
    "msg['Subject'] = 'Subject Title'\n",
    "body = \"\"\"Multipart email\"\"\"\n",
    "\n",
    "msg.attach(MIMEText(body, 'plain')) #'html' also optional"
   ]
  },
  {
   "cell_type": "code",
   "execution_count": null,
   "metadata": {},
   "outputs": [],
   "source": [
    "#securely connect to server\n",
    "smtp_server = smtplib.SMTP('smtp.gmail.com', 587)\n",
    "smtp_server.ehlo() #initiate contact with server\n",
    "smtp_server.starttls()\n",
    "\n",
    "smtp_server.login(from_account, passkey)\n",
    "text = msg.as_string()\n",
    "smtp_server.sendmail(from_account, 'grantryan.king@gmail.com', text)\n",
    "smtp_server.quit()\n",
    "\n",
    "print('Email sent successfully')"
   ]
  },
  {
   "cell_type": "markdown",
   "metadata": {},
   "source": [
    "#### Blind CC option"
   ]
  },
  {
   "cell_type": "code",
   "execution_count": null,
   "metadata": {},
   "outputs": [],
   "source": [
    "msg = MIMEMultipart()\n",
    "msg['From'] = from_account\n",
    "msg['To'] = 'grantryan.king@gmail.com'\n",
    "msg['Subject'] = 'Subject Title'\n",
    "body = \"\"\"Multipart email\"\"\"\n",
    "#define bcc outside of multipart dict aceess to ensure blindness is respected\n",
    "bcc = ['g.rantryanking@gmail.com', 'grantryanking@gmail.com']\n",
    "\n",
    "msg.attach(MIMEText(body, 'plain')) #'html' also optional\n",
    "\n",
    "#securely connect to server\n",
    "smtp_server = smtplib.SMTP('smtp.gmail.com', 587)\n",
    "smtp_server.ehlo() #initiate contact with server\n",
    "smtp_server.starttls()\n",
    "\n",
    "smtp_server.login(from_account, passkey)\n",
    "text = msg.as_string()\n",
    "smtp_server.sendmail(from_account, 'grantryan.king@gmail.com' + bcc, text)\n",
    "smtp_server.quit()\n",
    "\n",
    "print('Email sent successfully')"
   ]
  },
  {
   "cell_type": "markdown",
   "metadata": {},
   "source": [
    "### Use context manager \n"
   ]
  },
  {
   "cell_type": "code",
   "execution_count": 3,
   "metadata": {},
   "outputs": [],
   "source": [
    "from email.message import EmailMessage\n",
    "\n",
    "msg = EmailMessage()\n",
    "msg['Subject'] = 'Another email'\n",
    "msg['From'] = from_account\n",
    "msg['To'] = 'grantryan.king@gmail.com'\n",
    "msg.set_content('Look at what can be accomplished using smtplib WITH a context manager!')\n",
    "\n",
    "with smtplib.SMTP('smtp.gmail.com', 587) as smtp:\n",
    "    smtp.ehlo() #initiate contact with server\n",
    "    smtp.starttls()\n",
    "    smtp.ehlo() #verify encrypted contact\n",
    "    smtp.login(from_account, passkey)\n",
    "    smtp.send_message(msg)"
   ]
  },
  {
   "cell_type": "markdown",
   "metadata": {},
   "source": [
    "#### use local debug server to test sending email"
   ]
  },
  {
   "cell_type": "code",
   "execution_count": null,
   "metadata": {},
   "outputs": [],
   "source": [
    "#in your terminal, type >> python -m smtpd -c DebuggingServer -n localhost:1025\n",
    "#this will start a test email server that prints incoming emails to the console and discards them\n",
    "\n",
    "with smtplib.SMTP('localhost', 1025) as smtp:\n",
    "    subject = 'Look at this email'\n",
    "    body = 'Look at what can be accomplished using smtplib WITH a context manager!'\n",
    "    \n",
    "    msg = f'{subject}\\n\\n{body}'\n",
    "    \n",
    "    smtp.sendmail(from_account, 'grantryan.king@gmail.com', msg)"
   ]
  },
  {
   "cell_type": "markdown",
   "metadata": {},
   "source": [
    "### attach things"
   ]
  },
  {
   "cell_type": "code",
   "execution_count": 4,
   "metadata": {},
   "outputs": [],
   "source": [
    "from email.message import EmailMessage\n",
    "import imghdr\n",
    "\n",
    "msg = EmailMessage()\n",
    "msg['Subject'] = 'Another email'\n",
    "msg['From'] = from_account\n",
    "msg['To'] = 'grantryan.king@gmail.com'\n",
    "msg.set_content('Look at what can be attached using smtplib!')\n",
    "\n",
    "with open('pot_collage.jpg', 'rb') as file:\n",
    "    file_data = file.read()\n",
    "    #figure out image type with filename\n",
    "    file_type = imghdr.what(file.name)\n",
    "    file_name = file.name\n",
    "    \n",
    "msg.add_attachment(file_data, maintype='image', subtype=file_type, filename=file_name)\n",
    "\n",
    "with smtplib.SMTP('smtp.gmail.com', 587) as smtp:\n",
    "    smtp.ehlo() #initiate contact with server\n",
    "    smtp.starttls()\n",
    "    smtp.ehlo() #verify encrypted contact\n",
    "    smtp.login(from_account, passkey)\n",
    "    smtp.send_message(msg)"
   ]
  },
  {
   "cell_type": "markdown",
   "metadata": {},
   "source": [
    "#### attach multiple things"
   ]
  },
  {
   "cell_type": "code",
   "execution_count": 6,
   "metadata": {},
   "outputs": [],
   "source": [
    "from email.message import EmailMessage\n",
    "import imghdr\n",
    "\n",
    "msg = EmailMessage()\n",
    "msg['Subject'] = 'Another email'\n",
    "msg['From'] = from_account\n",
    "msg['To'] = 'grantryan.king@gmail.com'\n",
    "msg.set_content('Look at how many can be attached using smtplib!')\n",
    "\n",
    "files = ['pot_collage.jpg', 'pot_collage2.jpg']\n",
    "for file in files:\n",
    "    with open(file, 'rb') as file:\n",
    "        file_data = file.read()\n",
    "        #figure out image type with filename\n",
    "        file_type = imghdr.what(file.name)\n",
    "        file_name = file.name\n",
    "    \n",
    "    msg.add_attachment(file_data, maintype='image', subtype=file_type, filename=file_name)\n",
    "\n",
    "with smtplib.SMTP('smtp.gmail.com', 587) as smtp:\n",
    "    smtp.ehlo() #initiate contact with server\n",
    "    smtp.starttls()\n",
    "    smtp.ehlo() #verify encrypted contact\n",
    "    smtp.login(from_account, passkey)\n",
    "    smtp.send_message(msg)"
   ]
  },
  {
   "cell_type": "markdown",
   "metadata": {},
   "source": [
    "#### send other filetypes\n",
    "application maintype and octet-stream subtype is for generic data"
   ]
  },
  {
   "cell_type": "code",
   "execution_count": 7,
   "metadata": {},
   "outputs": [],
   "source": [
    "from email.message import EmailMessage\n",
    "import imghdr\n",
    "\n",
    "msg = EmailMessage()\n",
    "msg['Subject'] = 'Another email'\n",
    "msg['From'] = from_account\n",
    "msg['To'] = 'grantryan.king@gmail.com'\n",
    "msg.set_content('Look at how many can be attached using smtplib!')\n",
    "\n",
    "files = ['ERD.pdf']\n",
    "for file in files:\n",
    "    with open(file, 'rb') as file:\n",
    "        file_data = file.read()\n",
    "        file_name = file.name\n",
    "    \n",
    "    msg.add_attachment(file_data, maintype='application', subtype='octet-stream', filename=file_name)\n",
    "\n",
    "with smtplib.SMTP('smtp.gmail.com', 587) as smtp:\n",
    "    smtp.ehlo() #initiate contact with server\n",
    "    smtp.starttls()\n",
    "    smtp.ehlo() #verify encrypted contact\n",
    "    smtp.login(from_account, passkey)\n",
    "    smtp.send_message(msg)"
   ]
  },
  {
   "cell_type": "markdown",
   "metadata": {},
   "source": [
    "### Send HTML email\n",
    "with plaintext as fallback for those who have HTML emails turned off"
   ]
  },
  {
   "cell_type": "code",
   "execution_count": null,
   "metadata": {},
   "outputs": [],
   "source": []
  }
 ],
 "metadata": {
  "kernelspec": {
   "display_name": "Python 3",
   "language": "python",
   "name": "python3"
  },
  "language_info": {
   "codemirror_mode": {
    "name": "ipython",
    "version": 3
   },
   "file_extension": ".py",
   "mimetype": "text/x-python",
   "name": "python",
   "nbconvert_exporter": "python",
   "pygments_lexer": "ipython3",
   "version": "3.7.1"
  }
 },
 "nbformat": 4,
 "nbformat_minor": 2
}
