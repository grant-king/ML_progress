{
 "cells": [
  {
   "cell_type": "markdown",
   "metadata": {},
   "source": [
    "## Determine new releases\n",
    "Use requests and beautifulsoup4 to check and see which page on Ronin Flix site has the desired title, \"Opera\"\n"
   ]
  },
  {
   "cell_type": "code",
   "execution_count": 1,
   "metadata": {},
   "outputs": [],
   "source": [
    "import requests\n",
    "import bs4"
   ]
  },
  {
   "cell_type": "code",
   "execution_count": 2,
   "metadata": {},
   "outputs": [],
   "source": [
    "NR_URL = 'https://roninflix.com/collections/new-release'\n",
    "CS_URL = 'https://roninflix.com/collections/coming-soon'\n"
   ]
  },
  {
   "cell_type": "code",
   "execution_count": 3,
   "metadata": {},
   "outputs": [],
   "source": [
    "#this first method should be in a separate script so you don't pull too much\n",
    "def pull_site(url):\n",
    "    raw_site_page = requests.get(url, timeout=5)\n",
    "    raw_site_page.raise_for_status()\n",
    "    return raw_site_page\n",
    "\n",
    "def scrape(site):\n",
    "    titles_list = []\n",
    "    \n",
    "    soup = bs4.BeautifulSoup(site.text, 'html.parser')\n",
    "    select_list = soup.select('.grid-view-item__title')\n",
    "    \n",
    "    for titles in select_list:\n",
    "        titles_list.append(titles.getText())\n",
    "        \n",
    "    return titles_list"
   ]
  },
  {
   "cell_type": "code",
   "execution_count": 9,
   "metadata": {},
   "outputs": [],
   "source": [
    "def check_movie():\n",
    "    new_titles = scrape(pull_site(NR_URL))\n",
    "    coming_titles = scrape(pull_site(CS_URL))\n",
    "\n",
    "    for title in new_titles:\n",
    "        if 'Opera' in title:\n",
    "            return 1\n",
    "    for title in coming_titles:\n",
    "        if 'Opera' in title:\n",
    "            return 0\n",
    "    return -1\n",
    "\n",
    "def whereis_movie():\n",
    "    movie_status = check_movie()\n",
    "    \n",
    "    if movie_status == 0:\n",
    "        return(f'{title} is still on Ronin Coming Soon page')\n",
    "    elif movie_status == 1:\n",
    "        return(f'{title} found on Ronin New Releases page')\n",
    "    else:\n",
    "        return(f'Something is going on... You\\'d better check Ronin to see if Opera has moved from Coming Soon.')\n",
    "    "
   ]
  },
  {
   "cell_type": "code",
   "execution_count": null,
   "metadata": {},
   "outputs": [],
   "source": [
    "\n",
    "    "
   ]
  },
  {
   "cell_type": "markdown",
   "metadata": {},
   "source": [
    "## email notification\n",
    "Send summary via email"
   ]
  },
  {
   "cell_type": "code",
   "execution_count": 10,
   "metadata": {},
   "outputs": [],
   "source": [
    "def email_notify(msg_body):\n",
    "    import os\n",
    "    import smtplib\n",
    "\n",
    "    mail_acct = os.environ.get('ALERTS_EMAIL')\n",
    "    mail_pass = os.environ.get('ALERTS_PASSWORD')\n",
    "\n",
    "    with smtplib.SMTP('smtp.gmail.com', 587) as smtp:\n",
    "        #identify yourself\n",
    "        smtp.ehlo()\n",
    "        #encrypt connection\n",
    "        smtp.starttls()\n",
    "        smtp.ehlo()\n",
    "\n",
    "        smtp.login(mail_acct, mail_pass)\n",
    "\n",
    "        subject = 'Movie Notification'\n",
    "        msg = f'Subject: {subject}\\n\\n{msg_body}'\n",
    "\n",
    "        smtp.sendmail(mail_acct, 'grantryan.king@gmail.com', msg)"
   ]
  },
  {
   "cell_type": "code",
   "execution_count": 11,
   "metadata": {},
   "outputs": [],
   "source": [
    "email_notify(whereis_movie())"
   ]
  },
  {
   "cell_type": "markdown",
   "metadata": {},
   "source": [
    "## save activity\n",
    "to stop process when complete"
   ]
  },
  {
   "cell_type": "code",
   "execution_count": null,
   "metadata": {},
   "outputs": [],
   "source": []
  },
  {
   "cell_type": "code",
   "execution_count": null,
   "metadata": {},
   "outputs": [],
   "source": []
  }
 ],
 "metadata": {
  "kernelspec": {
   "display_name": "Python 3",
   "language": "python",
   "name": "python3"
  },
  "language_info": {
   "codemirror_mode": {
    "name": "ipython",
    "version": 3
   },
   "file_extension": ".py",
   "mimetype": "text/x-python",
   "name": "python",
   "nbconvert_exporter": "python",
   "pygments_lexer": "ipython3",
   "version": "3.6.8"
  }
 },
 "nbformat": 4,
 "nbformat_minor": 2
}
