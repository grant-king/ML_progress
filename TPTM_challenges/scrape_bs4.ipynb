{
 "cells": [
  {
   "cell_type": "markdown",
   "metadata": {},
   "source": [
    "## Determine new releases\n",
    "Use requests and beautifulsoup4 to check and see which page on Ronin Flix site has the desired title, \"Opera\"\n"
   ]
  },
  {
   "cell_type": "code",
   "execution_count": 1,
   "metadata": {},
   "outputs": [],
   "source": [
    "import requests\n",
    "import bs4\n",
    "import time"
   ]
  },
  {
   "cell_type": "code",
   "execution_count": 2,
   "metadata": {},
   "outputs": [],
   "source": [
    "NR_URL = 'https://roninflix.com/collections/new-release'\n",
    "CS_URL = 'https://roninflix.com/collections/coming-soon'\n"
   ]
  },
  {
   "cell_type": "code",
   "execution_count": 24,
   "metadata": {},
   "outputs": [],
   "source": [
    "class Inquiry:\n",
    "    \n",
    "    def __init__(self, url):\n",
    "        self.url = url\n",
    "        self.page_response = self.pull_site()\n",
    "        self.pull_time = time.ctime(time.time())\n",
    "        self.titles = self.parse_titles()\n",
    "    \n",
    "    def __str__(self):\n",
    "        ob_str = f'Queried {self.url} on {self.pull_time}. {str(len(self.titles))} titles found.'\n",
    "        return ob_str\n",
    "        \n",
    "    def pull_site(self):\n",
    "        site_response = requests.get(self.url, timeout=5)\n",
    "        site_response.raise_for_status()\n",
    "        return site_response\n",
    "    \n",
    "    def parse_titles(self):\n",
    "        titles_list = []\n",
    "        \n",
    "        #raw page held in 'content' attribute of response obj\n",
    "        soup = bs4.BeautifulSoup(self.page_response.content, 'html.parser')\n",
    "        select_list = soup.select('.grid-view-item__title')\n",
    "        \n",
    "        for titles in select_list:\n",
    "            titles_list.append(titles.getText())\n",
    "        return titles_list\n",
    "\n",
    "class InquiryRecord(Inquiry):\n",
    "    \n",
    "    def __init__(self, url, ptime, titles):\n",
    "        self.url = url\n",
    "        self.pull_time = ptime\n",
    "        self.titles = titles\n",
    "        "
   ]
  },
  {
   "cell_type": "code",
   "execution_count": 25,
   "metadata": {},
   "outputs": [],
   "source": [
    "def check_movie(url):\n",
    "    titles = Inquiry(url)\n",
    "    \n",
    "    for title in titles.titles:\n",
    "        if 'Opera' in title:\n",
    "            return(f'Opera found on Ronin {titles.url.split(\"/\")[-1]} page')\n",
    "    return(f'Opera is not yet on Ronin {titles.url.split(\"/\")[-1]} page')\n",
    "\n"
   ]
  },
  {
   "cell_type": "code",
   "execution_count": 26,
   "metadata": {},
   "outputs": [
    {
     "name": "stdout",
     "output_type": "stream",
     "text": [
      "Opera is not yet on Ronin new-release page\n",
      "Opera found on Ronin coming-soon page\n"
     ]
    }
   ],
   "source": [
    "print(check_movie(NR_URL))\n",
    "print(check_movie(CS_URL))"
   ]
  },
  {
   "cell_type": "markdown",
   "metadata": {},
   "source": [
    "## email notification\n",
    "Send summary via email"
   ]
  },
  {
   "cell_type": "code",
   "execution_count": 27,
   "metadata": {},
   "outputs": [],
   "source": [
    "def email_notify(msg_body):\n",
    "    import os\n",
    "    import smtplib\n",
    "\n",
    "    sending_acct = os.environ.get('ALERTS_EMAIL')\n",
    "    mail_pass = os.environ.get('ALERTS_PASSWORD')\n",
    "    notify_email = os.environ.get('NOTIFY_EMAIL')\n",
    "\n",
    "    with smtplib.SMTP('smtp.gmail.com', 587) as smtp:\n",
    "        #identify yourself\n",
    "        smtp.ehlo()\n",
    "        #encrypt connection\n",
    "        smtp.starttls()\n",
    "        smtp.ehlo()\n",
    "\n",
    "        smtp.login(mail_acct, mail_pass)\n",
    "\n",
    "        subject = 'Movie Notification'\n",
    "        msg = f'Subject: {subject}\\n\\n{msg_body}'\n",
    "\n",
    "        smtp.sendmail(sending_acct, notify_email, msg)"
   ]
  },
  {
   "cell_type": "markdown",
   "metadata": {},
   "source": [
    "## save activity\n",
    "to stop process when complete"
   ]
  },
  {
   "cell_type": "markdown",
   "metadata": {},
   "source": [
    "### encoding and decoding custom types in json"
   ]
  },
  {
   "cell_type": "code",
   "execution_count": 28,
   "metadata": {},
   "outputs": [],
   "source": [
    "#create fresh Inquiry\n",
    "new_check = Inquiry(NR_URL)"
   ]
  },
  {
   "cell_type": "markdown",
   "metadata": {},
   "source": [
    "#### encode"
   ]
  },
  {
   "cell_type": "code",
   "execution_count": 29,
   "metadata": {},
   "outputs": [],
   "source": [
    "import json\n",
    "#subclass jsonencoder\n",
    "class InquiryEncoder(json.JSONEncoder):\n",
    "    def default(self, inquiry):\n",
    "        try:\n",
    "            encode_dict = {\n",
    "                '__inquiry__': True,\n",
    "                'url': inquiry.url,\n",
    "                'pull_time': inquiry.pull_time,\n",
    "                'titles': inquiry.titles\n",
    "                          }\n",
    "            return encode_dict\n",
    "        except:\n",
    "            print('Could not properly encode')"
   ]
  },
  {
   "cell_type": "code",
   "execution_count": 30,
   "metadata": {},
   "outputs": [],
   "source": [
    "with open('data_file.json', 'w') as write_file:\n",
    "    json.dump(new_check, write_file, cls=InquiryEncoder)\n"
   ]
  },
  {
   "cell_type": "markdown",
   "metadata": {},
   "source": [
    "#### decode"
   ]
  },
  {
   "cell_type": "code",
   "execution_count": 31,
   "metadata": {},
   "outputs": [
    {
     "data": {
      "text/plain": [
       "{'__inquiry__': True,\n",
       " 'pull_time': 'Fri Mar 22 18:18:39 2019',\n",
       " 'titles': ['The Psychic',\n",
       "  'Rituals',\n",
       "  'Jungle Holocaust',\n",
       "  'Tower of Evil (Horror on Snape Island)',\n",
       "  'Curse III: Blood Sacrifice',\n",
       "  'Robot Holocaust',\n",
       "  'Bucktown',\n",
       "  'Land of Doom',\n",
       "  'Angel Unchained',\n",
       "  'Mary, Mary, Bloody Mary',\n",
       "  'Shakma'],\n",
       " 'url': 'https://roninflix.com/collections/new-release'}"
      ]
     },
     "execution_count": 31,
     "metadata": {},
     "output_type": "execute_result"
    }
   ],
   "source": [
    "json_str = json.dumps(new_check, cls=InquiryEncoder)\n",
    "json.loads(json_str)"
   ]
  },
  {
   "cell_type": "code",
   "execution_count": 32,
   "metadata": {},
   "outputs": [],
   "source": [
    "#make custom decode function\n",
    "def decode_inquiry(dct):\n",
    "    if '__inquiry__' in dct:\n",
    "        return InquiryRecord(dct['url'], dct['pull_time'], dct['titles'])\n",
    "    else:\n",
    "        print('Can not rebuild InquiryRecord object from JSON')"
   ]
  },
  {
   "cell_type": "code",
   "execution_count": 33,
   "metadata": {},
   "outputs": [],
   "source": [
    "with open('data_file.json') as inquiry_data:\n",
    "    data = inquiry_data.read()\n",
    "    recorded = json.loads(data, object_hook=decode_inquiry)"
   ]
  },
  {
   "cell_type": "code",
   "execution_count": 39,
   "metadata": {},
   "outputs": [
    {
     "data": {
      "text/plain": [
       "'Queried https://roninflix.com/collections/new-release on Fri Mar 22 18:18:39 2019. 11 titles found.'"
      ]
     },
     "execution_count": 39,
     "metadata": {},
     "output_type": "execute_result"
    }
   ],
   "source": [
    "str(recorded)"
   ]
  },
  {
   "cell_type": "code",
   "execution_count": 40,
   "metadata": {},
   "outputs": [
    {
     "ename": "TypeError",
     "evalue": "object of type 'InquiryRecord' has no len()",
     "output_type": "error",
     "traceback": [
      "\u001b[1;31m---------------------------------------------------------------------------\u001b[0m",
      "\u001b[1;31mTypeError\u001b[0m                                 Traceback (most recent call last)",
      "\u001b[1;32m<ipython-input-40-308d0885a4e0>\u001b[0m in \u001b[0;36m<module>\u001b[1;34m()\u001b[0m\n\u001b[1;32m----> 1\u001b[1;33m \u001b[0mlen\u001b[0m\u001b[1;33m(\u001b[0m\u001b[0mrecorded\u001b[0m\u001b[1;33m)\u001b[0m\u001b[1;33m\u001b[0m\u001b[1;33m\u001b[0m\u001b[0m\n\u001b[0m",
      "\u001b[1;31mTypeError\u001b[0m: object of type 'InquiryRecord' has no len()"
     ]
    }
   ],
   "source": []
  },
  {
   "cell_type": "code",
   "execution_count": null,
   "metadata": {},
   "outputs": [],
   "source": []
  }
 ],
 "metadata": {
  "kernelspec": {
   "display_name": "Python 3",
   "language": "python",
   "name": "python3"
  },
  "language_info": {
   "codemirror_mode": {
    "name": "ipython",
    "version": 3
   },
   "file_extension": ".py",
   "mimetype": "text/x-python",
   "name": "python",
   "nbconvert_exporter": "python",
   "pygments_lexer": "ipython3",
   "version": "3.6.8"
  }
 },
 "nbformat": 4,
 "nbformat_minor": 2
}
