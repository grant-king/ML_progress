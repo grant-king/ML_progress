{
 "cells": [
  {
   "cell_type": "markdown",
   "metadata": {},
   "source": [
    "## Determine new releases\n",
    "Use requests and beautifulsoup4 to check and see which page on Ronin Flix site has the desired title, \"Opera\"\n"
   ]
  },
  {
   "cell_type": "code",
   "execution_count": 22,
   "metadata": {},
   "outputs": [],
   "source": [
    "import requests\n",
    "import bs4"
   ]
  },
  {
   "cell_type": "code",
   "execution_count": 23,
   "metadata": {},
   "outputs": [],
   "source": [
    "NR_URL = 'https://roninflix.com/collections/new-release'\n",
    "CS_URL = 'https://roninflix.com/collections/coming-soon'\n"
   ]
  },
  {
   "cell_type": "code",
   "execution_count": 24,
   "metadata": {},
   "outputs": [],
   "source": [
    "#this first method should be in a separate script so you don't pull too much\n",
    "def pull_site(url):\n",
    "    raw_site_page = requests.get(url)\n",
    "    raw_site_page.raise_for_status()\n",
    "    return raw_site_page\n",
    "\n",
    "def scrape(site):\n",
    "    titles_list = []\n",
    "    \n",
    "    soup = bs4.BeautifulSoup(site.text, 'html.parser')\n",
    "    select_list = soup.select('.grid-view-item__title')\n",
    "    \n",
    "    for titles in select_list:\n",
    "        titles_list.append(titles.getText())\n",
    "        \n",
    "    return titles_list"
   ]
  },
  {
   "cell_type": "code",
   "execution_count": 31,
   "metadata": {},
   "outputs": [
    {
     "name": "stdout",
     "output_type": "stream",
     "text": [
      "---New Releases---\n",
      "The Psychic\n",
      "Rituals\n",
      "Jungle Holocaust\n",
      "Tower of Evil (Horror on Snape Island)\n",
      "Curse III: Blood Sacrifice\n",
      "Bucktown\n",
      "Mary, Mary, Bloody Mary\n",
      "Shakma\n",
      "\n",
      "---Coming Soon---\n",
      "Shredder\n",
      "Just Before Dawn\n",
      "Blackout\n",
      "Deep Space\n",
      "The Happy Hooker Goes Hollywood\n",
      "Opera (3 Disc Set)\n",
      "The Mafu Cage\n"
     ]
    }
   ],
   "source": [
    "print('---New Releases---')\n",
    "new_titles = scrape(pull_site(NR_URL))\n",
    "_ = [print(title) for title in new_titles]\n",
    "\n",
    "print('\\n---Coming Soon---')\n",
    "coming_titles = scrape(pull_site(CS_URL))\n",
    "_ = [print(title) for title in coming_titles]"
   ]
  },
  {
   "cell_type": "code",
   "execution_count": 26,
   "metadata": {},
   "outputs": [
    {
     "name": "stdout",
     "output_type": "stream",
     "text": [
      "Opera (3 Disc Set) is still on Ronin Coming Soon page\n"
     ]
    }
   ],
   "source": [
    "for title in new_titles:\n",
    "    if 'Opera' in title:\n",
    "        print(f'{title} found on Ronin New Releases page')\n",
    "        \n",
    "for title in coming_titles:\n",
    "    if 'Opera' in title:\n",
    "        print(f'{title} is still on Ronin Coming Soon page')"
   ]
  },
  {
   "cell_type": "markdown",
   "metadata": {},
   "source": [
    "## email notification\n",
    "Send summary via email"
   ]
  },
  {
   "cell_type": "code",
   "execution_count": null,
   "metadata": {},
   "outputs": [],
   "source": []
  }
 ],
 "metadata": {
  "kernelspec": {
   "display_name": "Python 3",
   "language": "python",
   "name": "python3"
  },
  "language_info": {
   "codemirror_mode": {
    "name": "ipython",
    "version": 3
   },
   "file_extension": ".py",
   "mimetype": "text/x-python",
   "name": "python",
   "nbconvert_exporter": "python",
   "pygments_lexer": "ipython3",
   "version": "3.6.8"
  }
 },
 "nbformat": 4,
 "nbformat_minor": 2
}
