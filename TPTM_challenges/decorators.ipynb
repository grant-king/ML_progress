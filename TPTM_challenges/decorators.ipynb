{
 "cells": [
  {
   "cell_type": "markdown",
   "metadata": {},
   "source": [
    "## Decorator functions\n",
    "Decorators are able to add functionality to existing functions. A decorator function takes an existing function as an argument, adds functionality to it, and returns the new function."
   ]
  },
  {
   "cell_type": "code",
   "execution_count": 2,
   "metadata": {},
   "outputs": [],
   "source": [
    "#here is a decorator that adds this print statement before the existing function.\n",
    "#it accepts optional * and ** arguments as a way to pass arguments to the original function\n",
    "def decorator_function(original_function):\n",
    "    def wrapper_function(*args, **kwargs):\n",
    "        print(f'wrapper executed this before {original_function.__name__}')\n",
    "        return original_function(*args, **kwargs)\n",
    "    return wrapper_function\n"
   ]
  },
  {
   "cell_type": "code",
   "execution_count": 3,
   "metadata": {},
   "outputs": [],
   "source": [
    "#to apply decorator to an existing function in Python, just use @decorator_function\n",
    "def display():\n",
    "    print('display function ran')\n",
    "    \n",
    "@decorator_function\n",
    "def display_info(name, age):\n",
    "    print(f'display_info ran with arguments {name} and {age}')\n",
    "    "
   ]
  },
  {
   "cell_type": "markdown",
   "metadata": {},
   "source": [
    "## Decorator classes\n",
    "Decorators are optionally implemented as classes"
   ]
  },
  {
   "cell_type": "code",
   "execution_count": null,
   "metadata": {},
   "outputs": [],
   "source": [
    "class decorator_class(object):\n",
    "    \n",
    "    def __init__(self, original_function):\n",
    "        self.original_function = original_function\n",
    "        \n",
    "    def __call__(self, *args, **kwargs):\n",
    "        print('call method executed this before{self.original_function.__name__}')\n",
    "        return self.original_function(*args, **kwargs)"
   ]
  },
  {
   "cell_type": "markdown",
   "metadata": {},
   "source": [
    "## Practical applications\n",
    "Here are some examples of how to use decorators"
   ]
  },
  {
   "cell_type": "code",
   "execution_count": null,
   "metadata": {},
   "outputs": [],
   "source": [
    "def my_logger(original_function):\n",
    "    import logging\n",
    "    logging.basicConfig(filename=f'{original_function.__name__}.log', level=logging.INFO)\n",
    "    \n",
    "    def wrapper(*args, **kwargs):\n",
    "        logging.info(f 'ran with args: {args} and kwargs: {kwargs}')\n",
    "        return original_function(*args, **kwargs)\n",
    "    \n",
    "    return wrapper\n",
    "\n",
    "\n",
    "def my_timer(original_function):\n",
    "    import time\n",
    "    \n",
    "    def wrapper(*args, **kwargs):\n",
    "        t1 = time.time()\n",
    "        result = original_function(*args, **kwargs)\n",
    "        t2 = time.time() - t1\n",
    "        print(f'{original_function.__name__} ran in: {t2} sec')\n",
    "        return result\n",
    "    \n",
    "    return wrapper\n",
    "        \n",
    "    "
   ]
  },
  {
   "cell_type": "code",
   "execution_count": null,
   "metadata": {},
   "outputs": [],
   "source": []
  }
 ],
 "metadata": {
  "kernelspec": {
   "display_name": "Python 3",
   "language": "python",
   "name": "python3"
  },
  "language_info": {
   "codemirror_mode": {
    "name": "ipython",
    "version": 3
   },
   "file_extension": ".py",
   "mimetype": "text/x-python",
   "name": "python",
   "nbconvert_exporter": "python",
   "pygments_lexer": "ipython3",
   "version": "3.6.8"
  }
 },
 "nbformat": 4,
 "nbformat_minor": 2
}
