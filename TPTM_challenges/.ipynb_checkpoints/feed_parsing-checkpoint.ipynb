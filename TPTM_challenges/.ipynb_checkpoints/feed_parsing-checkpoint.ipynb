{
 "cells": [
  {
   "cell_type": "markdown",
   "metadata": {},
   "source": [
    "# Working With RSS Feed Data"
   ]
  },
  {
   "cell_type": "markdown",
   "metadata": {},
   "source": [
    "## write contents of feed to file"
   ]
  },
  {
   "cell_type": "code",
   "execution_count": 1,
   "metadata": {},
   "outputs": [],
   "source": [
    "import requests\n",
    "import feedparser\n",
    "\n",
    "FEED_FILE = 'movie_feed.xml'\n",
    "URL = 'https://www.metacritic.com/rss/movies'"
   ]
  },
  {
   "cell_type": "code",
   "execution_count": 2,
   "metadata": {},
   "outputs": [],
   "source": [
    "#this url blocks the request without headers\n",
    "headers = {'User-Agent': 'Mozilla/5.0 (Windows NT 6.1; WOW64) AppleWebKit/537.36 (KHTML, like Gecko) Chrome/56.0.2924.76 Safari/537.36'}\n",
    "xml_feed = requests.get(URL, headers=headers)\n",
    "with open(FEED_FILE, 'wb') as file:\n",
    "    file.write(xml_feed.content)"
   ]
  },
  {
   "cell_type": "markdown",
   "metadata": {},
   "source": [
    "### define Movie Objects"
   ]
  },
  {
   "cell_type": "code",
   "execution_count": 5,
   "metadata": {},
   "outputs": [],
   "source": [
    "class Movie:\n",
    "    def __init__(self, title, rating, link, release_date):\n",
    "        self.title = title\n",
    "        self.rating = rating\n",
    "        self.critic_link = link\n",
    "        self.released = release_date\n",
    "    def __str__(self):\n",
    "        return self.title\n",
    "    def __repr__(self):\n",
    "        return self.title\n",
    "        "
   ]
  },
  {
   "cell_type": "markdown",
   "metadata": {},
   "source": [
    "## open file and parse feed"
   ]
  },
  {
   "cell_type": "code",
   "execution_count": 13,
   "metadata": {},
   "outputs": [
    {
     "name": "stdout",
     "output_type": "stream",
     "text": [
      "+-+-+-+-+-+-+-+-+-+-+-+-+-+-+-+-+-+-+-+-+-+-+-+-+-+-+-+-+-+-+-+-+-+-+-+-+-+-+-+-\n",
      "\n",
      "Dumbo\tRated: PG\n",
      "\n",
      "\tCircus owner Max Medici (Danny DeVito) enlists former star Holt Farrier (Colin Farrell) and his children Milly (Nico Parker) and Joe (Finley Hobbins) to care for a newborn elephant whose oversized ears make him a laughingstock in an already struggling circus. But when they discover that Dumbo can fly, the circus makes an incredible comeback, attracting persuasive entrepreneur V.A. Vandevere (Michael Keaton), who recruits the peculiar pachyderm for his newest, larger-than-life entertainment venture, Dreamland. Dumbo soars to new heights alongside a charming and spectacular aerial artist, Colette Marchant (Eva Green), until Holt learns that beneath its shiny veneer, Dreamland is full of dark secrets. [Walt Disney Pictures]\n",
      "Mar 29, 2019 - https://www.metacritic.com/movie/dumbo\n",
      "\n",
      "+-+-+-+-+-+-+-+-+-+-+-+-+-+-+-+-+-+-+-+-+-+-+-+-+-+-+-+-+-+-+-+-+-+-+-+-+-+-+-+-\n",
      "\n",
      "Roll Red Roll\tRated: Not Rated\n",
      "\n",
      "\tAt a pre-season football party in small-town Steubenville, Ohio, a heinous crime took place: the assault of a teenage girl by members of the beloved high school football team. What transpired would garner national attention and result in the sentencing of two key offenders. But it was the disturbing social media evidence uncovered online by crime blogger Alex Goddard that provoked the most powerful questions about the case, and about the collusion of teen bystanders, teachers, parents and coaches to protect the assailants and discredit the victim. As it painstakingly reconstructs the night of the crime and its aftermath, Roll Red Roll uncovers the engrained rape culture at the heart of the incident, acting as a cautionary tale about what can happen when teenage social media bullying runs rampant and adults look the other way. The film unflinchingly asks: ?why didn?t anyone stop it??\n",
      "Mar 22, 2019 - https://www.metacritic.com/movie/roll-red-roll\n",
      "\n",
      "+-+-+-+-+-+-+-+-+-+-+-+-+-+-+-+-+-+-+-+-+-+-+-+-+-+-+-+-+-+-+-+-+-+-+-+-+-+-+-+-\n",
      "\n",
      "Hotel Mumbai\tRated: R\n",
      "\n",
      "\tA gripping true story of humanity and heroism, Hotel Mumbai vividly recounts the 2008 siege of the famed Taj Hotel by a group of terrorists in Mumbai, India. Among the dedicated hotel staff is the renowned chef Hemant Oberoi (Anupam Kher) and a waiter (Dev Patel) who choose to risk their lives to protect their guests. As the world watches on, a desperate couple (Armie Hammer and Nazanin Boniadi) is forced to make unthinkable sacrifices to protect their newborn child.\n",
      "Mar 22, 2019 - https://www.metacritic.com/movie/hotel-mumbai\n",
      "\n",
      "+-+-+-+-+-+-+-+-+-+-+-+-+-+-+-+-+-+-+-+-+-+-+-+-+-+-+-+-+-+-+-+-+-+-+-+-+-+-+-+-\n",
      "\n",
      "Diane\tRated: NR\n",
      "\n",
      "\tFor Diane (Mary Kay Place), everyone else comes first. Generous but with little patience for self-pity, she spends her days checking in on sick friends, volunteering at her local soup kitchen, and trying valiantly to save her troubled, drug-addicted adult son (Jake Lacy) from himself. But beneath her relentless routine of self-sacrifice, Diane is fighting a desperate internal battle, haunted by a past she can?t forget and which threatens to tear her increasingly chaotic world apart. [IFC Films]\n",
      "Mar 29, 2019 - https://www.metacritic.com/movie/diane\n",
      "\n",
      "+-+-+-+-+-+-+-+-+-+-+-+-+-+-+-+-+-+-+-+-+-+-+-+-+-+-+-+-+-+-+-+-+-+-+-+-+-+-+-+-\n",
      "\n",
      "The Brink\tRated: Not Rated\n",
      "\n",
      "\tWhen Steve Bannon left his position as White House chief strategist less than a week after the Charlottesville \"Unite the Right\" rally in August 2017, he was already a notorious figure in Trump?s inner circle, and for bringing a far-right ideology into the highest echelons of American politics. Unconstrained by an official post ? though some say he still has a direct line to the White House ? he became free to peddle influence as a perceived kingmaker, turning his controversial brand of nationalism into a global movement. The Brink follows Bannon through the 2018 mid-term elections in the United States, shedding light on his efforts to mobilize and unify far-right parties in order to win seats in the May 2019 European Parliamentary elections. To maintain his power and influence, the former Goldman Sachs banker and media investor reinvents himself ? as he has many times before ? this time as the self-appointed leader of a global populist movement. Keen manipulator of the press and gifted self-promoter, Bannon continues to draw headlines and protests wherever he goes, feeding the powerful myth on which his survival relies.\n",
      "\n",
      " \n",
      "Mar 29, 2019 - https://www.metacritic.com/movie/the-brink\n",
      "\n",
      "+-+-+-+-+-+-+-+-+-+-+-+-+-+-+-+-+-+-+-+-+-+-+-+-+-+-+-+-+-+-+-+-+-+-+-+-+-+-+-+-\n",
      "\n",
      "Screwball\tRelease Date: Mar 29, 2019\n",
      "\n",
      "\tRecounting the high-profile doping scandal that rocked Major League Baseball, director Billy Corben (Cocaine Cowboys) takes us into the surreal Miami underworld that provided performance-enhancing drugs to Alex Rodriguez, Manny Ramirez and other star players.\n",
      "\n",
      "They say South Florida is a sunny place for shady people and this is certainly true of steroid peddler Anthony Bosch and his most notorious client, Alex Rodriguez of the New York Yankees.  While Bosch's medical credentials may be lacking, his storytelling skills are first rate as he hilariously details the rise and fall of his ?health clinic?, including mob connections, financial chicanery, his cocaine habit, and Rodriguez's eccentric behavior.\n",
      "\n",
      "The documentary plays like a madcap Floridian crime comedy in the vein of Elmore Leonard or the Coen Brothers while it raises serious questions about the ethics of professional sports.  Powerful interests would be happy to let this story slip from memory, but Screwball makes it unforgettable.  [Greenwich Entertainment]\n",
      "Mar 29, 2019 - https://www.metacritic.com/movie/screwball\n",
      "\n",
      "+-+-+-+-+-+-+-+-+-+-+-+-+-+-+-+-+-+-+-+-+-+-+-+-+-+-+-+-+-+-+-+-+-+-+-+-+-+-+-+-\n",
      "\n",
      "Ramen Shop\tRelease Date: Mar 22, 2019\n",
      "\n",
      "\tMasato, a young ramen chef, leaves his hometown in Japan to embark on a culinary journey to Singapore to find out the truth about his past. He uncovers a lot more than family secrets and delicious recipes.\n",
      "Mar 22, 2019 - https://www.metacritic.com/movie/ramen-shop\n",
      "\n",
      "+-+-+-+-+-+-+-+-+-+-+-+-+-+-+-+-+-+-+-+-+-+-+-+-+-+-+-+-+-+-+-+-+-+-+-+-+-+-+-+-\n",
      "\n",
      "Out of Blue\tRated: NR\n",
      "\n",
      "\tThe hunt for a killer draws a detective into an even larger mystery: the nature of the universe itself. Mike Hoolihan (Patricia Clarkson) is an unconventional New Orleans cop investigating the murder of renowned astrophysicist Jennifer Rockwell (Mamie Gummer), a black hole expert found shot to death in her observatory. As Mike tumbles down the rabbit hole of the disturbing, labyrinthine case, she finds herself grappling with increasingly existential questions of quantum mechanics, parallel universes, and exploding stars?cosmic secrets that may hold the key to unraveling the crime, while throwing into doubt her very understanding of reality. [IFC Films]\n",
      "Mar 22, 2019 - https://www.metacritic.com/movie/out-of-blue\n",
      "\n",
      "+-+-+-+-+-+-+-+-+-+-+-+-+-+-+-+-+-+-+-+-+-+-+-+-+-+-+-+-+-+-+-+-+-+-+-+-+-+-+-+-\n",
      "\n",
      "Working Woman\tRelease Date: Mar 29, 2019\n",
      "\n",
      "\tOrna, (Liron Ben Shlush) is the mother of three young children with a husband struggling to start his own restaurant. To help support her family Orna returns to the workplace, landing a job with a former army superior, Benny (Menashe Noy) who is now a successful real estate developer. While Orna embraces her new position and tries to balance its demands with her home life, she begins to experience escalating sexual harassment from her boss. Her rapid rise through the ranks and her increasing financial success seem to parallel a pattern of predatory behavior which ultimately brings her career and marital relationship to the brink. This timely and devastating story is expertly told by long time feminist filmmaker Michal Aviad. [Zeitgeist Films]\n",
      "Mar 29, 2019 - https://www.metacritic.com/movie/working-woman\n",
      "\n",
      "+-+-+-+-+-+-+-+-+-+-+-+-+-+-+-+-+-+-+-+-+-+-+-+-+-+-+-+-+-+-+-+-+-+-+-+-+-+-+-+-\n",
      "\n",
      "The Highwaymen\tRated: R\n",
      "\n",
      "\tThe outlaws made headlines. The lawmen made history. The Highwaymen follows the untold true story of the legendary detectives who brought down Bonnie and Clyde. When the full force of the FBI and the latest forensic technology aren't enough to capture the nation's most notorious criminals, two former Texas Rangers (Kevin Costner and Woody Harrelson) must rely on their gut instincts and old school skills to get the job done.\n",
      "Mar 15, 2019 - https://www.metacritic.com/movie/the-highwaymen\n",
      "\n",
      "+-+-+-+-+-+-+-+-+-+-+-+-+-+-+-+-+-+-+-+-+-+-+-+-+-+-+-+-+-+-+-+-+-+-+-+-+-+-+-+-\n",
      "\n",
      "Us\tRated: R\n",
      "\n",
      "\tA mother (Lupita Nyong?o) and a father (Winston Duke) take their kids (Shahadi Wright Joseph, Evan Alex) for an idyllic summer getaway. Haunted by an unexplainable and unresolved trauma from her past and compounded by a string of eerie coincidences, Adelaide feels her paranoia elevate to high-alert as she grows increasingly certain that something bad is going to befall her family. After spending a tense beach day with their friends, the Tylers (Elisabeth Moss, Tim Heidecker, Cali Sheldon, Noelle Sheldon), Adelaide and her family return to their vacation home. When darkness falls, the Wilsons discover the silhouette of four figures holding hands as they stand in the driveway. Us pits an endearing American family against a terrifying and uncanny opponent: doppelgangers of themselves. \n",
      "Mar 22, 2019 - https://www.metacritic.com/movie/us\n",
      "\n",
      "+-+-+-+-+-+-+-+-+-+-+-+-+-+-+-+-+-+-+-+-+-+-+-+-+-+-+-+-+-+-+-+-+-+-+-+-+-+-+-+-\n",
      "\n",
      "Sorry Angel\tRated: Not Rated\n",
      "\n",
      "\tParis, 1993. Jacques (Pierre Deladonchamps) is a semi-renowned writer and single father in his thirties trying to maintain his sense of romance and humor in spite of the turmoil in his life and the world. While on a work trip to Brittany, he meets Arthur (Vincent Lacoste), an aspiring filmmaker in his early twenties, who is experiencing a sexual awakening and eager to get out of his parochial life. Arthur becomes instantly smitten with the older man.\n",
      "Feb 15, 2019 - https://www.metacritic.com/movie/sorry-angel\n",
      "\n",
      "+-+-+-+-+-+-+-+-+-+-+-+-+-+-+-+-+-+-+-+-+-+-+-+-+-+-+-+-+-+-+-+-+-+-+-+-+-+-+-+-\n",
      "\n",
      "Cradle of Champions\tRated: TV-14\n",
      "\n",
      "\tThree young people battle to change their lives through a three-month odyssey of the New York Daily News Golden Gloves-the biggest and oldest amateur boxing tournament in the world.\n",
      "Mar 09, 2019 - https://www.metacritic.com/movie/cradle-of-champions\n",
      "\n",
      "+-+-+-+-+-+-+-+-+-+-+-+-+-+-+-+-+-+-+-+-+-+-+-+-+-+-+-+-+-+-+-+-+-+-+-+-+-+-+-+-\n",
      "\n",
      "The Dirt\tRated: TV-MA\n",
      "\n",
      "\tThe story of how Motley Crue came to be one of the most notorious rock 'n roll groups in history.\n",
      "Mar 22, 2019 - https://www.metacritic.com/movie/the-dirt\n",
      "\n",
      "+-+-+-+-+-+-+-+-+-+-+-+-+-+-+-+-+-+-+-+-+-+-+-+-+-+-+-+-+-+-+-+-+-+-+-+-+-+-+-+-\n",
      "\n",
      "Tigerland\tRated: Not Rated\n",
      "\n",
      "\t50 years ago, a young forest officer in India rallied the world to save tigers from extinction. Today, the creed is carried on in Far East Russia by the guardians of the last Siberian tigers, who risk everything to save the species.\n",
      "Mar 22, 2019 - https://www.metacritic.com/movie/taken-by-the-tiger\n",
      "\n",
      "+-+-+-+-+-+-+-+-+-+-+-+-+-+-+-+-+-+-+-+-+-+-+-+-+-+-+-+-+-+-+-+-+-+-+-+-+-+-+-+-\n",
      "\n",
      "Hillbilly\tRated: Not Rated\n",
      "\n",
      "\tAppalachia is no stranger to the complexity of media representation. Since our country's inception, there has been a palpable divide between Urban and Rural America. Within this great divide, certain regions are viewed as \"other,\" and blamed for America's social ills. Since the presidential election, the cultural divide in America has expanded. Stereotyping and slurs are rampant, finger-pointing and name-calling abound. hillbilly goes on a personal and political journey into the heart of the Appalachian coalfields, exploring the role of media representation in the creation of the iconic American \"hillbilly,\" and examining the social, cultural, and political underpinnings of this infamous stereotype.\n",
      "Sep 28, 2018 - https://www.metacritic.com/movie/hillbilly\n",
      "\n",
      "+-+-+-+-+-+-+-+-+-+-+-+-+-+-+-+-+-+-+-+-+-+-+-+-+-+-+-+-+-+-+-+-+-+-+-+-+-+-+-+-\n",
      "\n",
      "A Vigilante\tRated: R\n",
      "\n",
      "\tA once abused woman, Sadie (Olivia Wilde), devotes herself to ridding victims of their domestic abusers while hunting down the husband she must kill to truly be free. \n",
      "Mar 29, 2019 - https://www.metacritic.com/movie/a-vigilante\n",
      "\n",
      "+-+-+-+-+-+-+-+-+-+-+-+-+-+-+-+-+-+-+-+-+-+-+-+-+-+-+-+-+-+-+-+-+-+-+-+-+-+-+-+-\n",
      "\n",
      "Sunset\tRated: Not Rated\n",
      "\n",
      "\t1913, Budapest, in the heart of Europe. The young Irisz Leiter arrives in the Hungarian capital with high hopes to work as a milliner at the legendary hat store that belonged to her late parents. She is nonetheless sent away by the new owner, Oszkar Brill. While preparations are under way at the Leiter hat store, to host guests of uttermost importance, a man abruptly comes to Irisz, looking for a certain Kalman Leiter. Refusing to leave the city, the young woman follows Kalman's tracks, her only link to a lost past. Her quest brings her through the dark streets of Budapest, where only the Leiter hat store shines, into the turmoil of a civilization on the eve of its downfall.\n",
      "Mar 22, 2019 - https://www.metacritic.com/movie/sunset\n",
      "\n",
      "+-+-+-+-+-+-+-+-+-+-+-+-+-+-+-+-+-+-+-+-+-+-+-+-+-+-+-+-+-+-+-+-+-+-+-+-+-+-+-+-\n",
      "\n",
      "Giant Little Ones\tRated: R\n",
      "\n",
      "\tFranky Winter (Josh Wiggins) and Ballas Kohl (Darren Mann) have been best friends since childhood. They are high school royalty: handsome, stars of the swim team and popular with girls. They live a perfect teenage life ? until the night of Franky's epic 17th birthday party, when Franky and Ballas are involved in an unexpected incident that changes their lives forever. \n",
      "Mar 01, 2019 - https://www.metacritic.com/movie/giant-little-ones\n",
      "\n",
      "+-+-+-+-+-+-+-+-+-+-+-+-+-+-+-+-+-+-+-+-+-+-+-+-+-+-+-+-+-+-+-+-+-+-+-+-+-+-+-+-\n",
      "\n",
      "Dragged Across Concrete\tRated: R\n",
      "\n",
      "\tTwo police detectives find themselves suspended when a video of their strong-arm tactics is leaked to the media. With little money and no options, the embittered policemen descend into the criminal underworld and find more than they wanted waiting in the shadows.\n",
      "Mar 22, 2019 - https://www.metacritic.com/movie/dragged-across-concrete\n",
      "\n"
     ]
    }
   ],
   "source": [
    "feed = feedparser.parse(FEED_FILE)\n",
    "movie_objs = []\n",
    "\n",
    "if 'title' in feed.entries[0]:\n",
    "    for entry in feed.entries:\n",
    "        desc_block = entry.description.split('<p>')\n",
    "        desc = desc_block[0]\n",
    "        rating = desc_block[1]\n",
    "        print(f'{\"+-\"*40}\\n\\n{entry.title}\\t{rating}\\n\\n\\t{desc}\\n{entry.published} - {entry.link}\\n')\n",
    "        try:\n",
    "              movie_objs.append(Movie(entry.title, rating, entry.link, entry.published))\n",
    "        except:\n",
    "              print(f'Could not make {entry.title} Movie object')"
   ]
  },
  {
   "cell_type": "code",
   "execution_count": 14,
   "metadata": {},
   "outputs": [
    {
     "data": {
      "text/plain": [
       "[Dumbo,\n",
       " Roll Red Roll,\n",
       " Hotel Mumbai,\n",
       " Diane,\n",
       " The Brink,\n",
       " Screwball,\n",
       " Ramen Shop,\n",
       " Out of Blue,\n",
       " Working Woman,\n",
       " The Highwaymen,\n",
       " Us,\n",
       " Sorry Angel,\n",
       " Cradle of Champions,\n",
       " The Dirt,\n",
       " Tigerland,\n",
       " Hillbilly,\n",
       " A Vigilante,\n",
       " Sunset,\n",
       " Giant Little Ones,\n",
       " Dragged Across Concrete]"
      ]
     },
     "execution_count": 14,
     "metadata": {},
     "output_type": "execute_result"
    }
   ],
   "source": [
    "movie_objs"
   ]
  },
  {
   "cell_type": "markdown",
   "metadata": {},
   "source": [
    "## encode objects in JSON file"
   ]
  },
  {
   "cell_type": "code",
   "execution_count": 16,
   "metadata": {},
   "outputs": [],
   "source": [
    "import json\n",
    "#subclass jsonencoder for custom object encoding\n",
    "class MovieEncoder(json.JSONEncoder):\n",
    "    def default(self, movie):\n",
    "        try:\n",
    "            encode_dict = {\n",
    "                '__Movie__': True,\n",
    "                'title': movie.title,\n",
    "                'rating': movie.rating,\n",
    "                'critic_link': movie.critic_link,\n",
    "                'released': movie.released\n",
    "            }\n",
    "            return encode_dict\n",
    "        except:\n",
    "            print('Could not encode movie as JSON')"
   ]
  },
  {
   "cell_type": "code",
   "execution_count": 17,
   "metadata": {},
   "outputs": [],
   "source": [
    "with open('movie_data.json', 'a') as write_file:#change 'a' flag to 'w' to overwrite existing data\n",
    "    json.dump(movie_objs, write_file, cls=MovieEncoder)"
   ]
  },
  {
   "cell_type": "markdown",
   "metadata": {},
   "source": [
    "## Decode from file, rebuild objects"
   ]
  },
  {
   "cell_type": "code",
   "execution_count": 45,
   "metadata": {},
   "outputs": [],
   "source": [
    "#custom decode fxn\n",
    "def decode_movie(dct):\n",
    "    if '__Movie__' in dct:\n",
    "        decode_objs = Movie(dct['title'], dct['rating'], dct['critic_link'], dct['released'])\n",
    "    return decode_objs"
   ]
  },
  {
   "cell_type": "code",
   "execution_count": 46,
   "metadata": {},
   "outputs": [],
   "source": [
    "#load file contents into json formatted string\n",
    "with open(\"movie_data.json\") as movie_data:\n",
    "    data = movie_data.read()\n",
    "    saved_objs = json.loads(data, object_hook=decode_movie)"
   ]
  },
  {
   "cell_type": "code",
   "execution_count": 55,
   "metadata": {},
   "outputs": [
    {
     "name": "stdout",
     "output_type": "stream",
     "text": [
      "Dumbo : Mar 29, 2019\n",
      "Roll Red Roll : Mar 22, 2019\n",
      "Hotel Mumbai : Mar 22, 2019\n",
      "Diane : Mar 29, 2019\n",
      "The Brink : Mar 29, 2019\n",
      "Screwball : Mar 29, 2019\n",
      "Ramen Shop : Mar 22, 2019\n",
      "Out of Blue : Mar 22, 2019\n",
      "Working Woman : Mar 29, 2019\n",
      "The Highwaymen : Mar 15, 2019\n",
      "Us : Mar 22, 2019\n",
      "Sorry Angel : Feb 15, 2019\n",
      "Cradle of Champions : Mar 09, 2019\n",
      "The Dirt : Mar 22, 2019\n",
      "Tigerland : Mar 22, 2019\n",
      "Hillbilly : Sep 28, 2018\n",
      "A Vigilante : Mar 29, 2019\n",
      "Sunset : Mar 22, 2019\n",
      "Giant Little Ones : Mar 01, 2019\n",
      "Dragged Across Concrete : Mar 22, 2019\n"
     ]
    }
   ],
   "source": [
    "#rebuild objects from string\n",
    "for movie_obj in saved_objs:\n",
    "    print(movie_obj, ':', movie_obj.released)"
   ]
  },
  {
   "cell_type": "code",
   "execution_count": 51,
   "metadata": {},
   "outputs": [],
   "source": []
  },
  {
   "cell_type": "code",
   "execution_count": 52,
   "metadata": {},
   "outputs": [
    {
     "data": {
      "text/plain": [
       "[Dumbo,\n",
       " Roll Red Roll,\n",
       " Hotel Mumbai,\n",
       " Diane,\n",
       " The Brink,\n",
       " Screwball,\n",
       " Ramen Shop,\n",
       " Out of Blue,\n",
       " Working Woman,\n",
       " The Highwaymen,\n",
       " Us,\n",
       " Sorry Angel,\n",
       " Cradle of Champions,\n",
       " The Dirt,\n",
       " Tigerland,\n",
       " Hillbilly,\n",
       " A Vigilante,\n",
       " Sunset,\n",
       " Giant Little Ones,\n",
       " Dragged Across Concrete]"
      ]
     },
     "execution_count": 52,
     "metadata": {},
     "output_type": "execute_result"
    }
   ],
   "source": []
  },
  {
   "cell_type": "code",
   "execution_count": 53,
   "metadata": {},
   "outputs": [
    {
     "data": {
      "text/plain": [
       "[Dumbo,\n",
       " Roll Red Roll,\n",
       " Hotel Mumbai,\n",
       " Diane,\n",
       " The Brink,\n",
       " Screwball,\n",
       " Ramen Shop,\n",
       " Out of Blue,\n",
       " Working Woman,\n",
       " The Highwaymen,\n",
       " Us,\n",
       " Sorry Angel,\n",
       " Cradle of Champions,\n",
       " The Dirt,\n",
       " Tigerland,\n",
       " Hillbilly,\n",
       " A Vigilante,\n",
       " Sunset,\n",
       " Giant Little Ones,\n",
       " Dragged Across Concrete]"
      ]
     },
     "execution_count": 53,
     "metadata": {},
     "output_type": "execute_result"
    }
   ],
   "source": [
    "rrr[]"
   ]
  },
  {
   "cell_type": "code",
   "execution_count": null,
   "metadata": {},
   "outputs": [],
   "source": []
  }
 ],
 "metadata": {
  "kernelspec": {
   "display_name": "Python 3",
   "language": "python",
   "name": "python3"
  },
  "language_info": {
   "codemirror_mode": {
    "name": "ipython",
    "version": 3
   },
   "file_extension": ".py",
   "mimetype": "text/x-python",
   "name": "python",
   "nbconvert_exporter": "python",
   "pygments_lexer": "ipython3",
   "version": "3.6.8"
  }
 },
 "nbformat": 4,
 "nbformat_minor": 2
}
