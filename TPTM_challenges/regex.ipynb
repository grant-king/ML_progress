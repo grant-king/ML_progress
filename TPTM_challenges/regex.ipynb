{
 "cells": [
  {
   "cell_type": "markdown",
   "metadata": {},
   "source": [
    "# Regular Expressions in Python\n",
    "re module provides regex methods in Python."
   ]
  },
  {
   "cell_type": "code",
   "execution_count": 2,
   "metadata": {},
   "outputs": [],
   "source": [
    "import re\n",
    "\n",
    "# avoid escaping special characters by using a raw string\n",
    "text = \"This is the text that will be searched. Match takes two arguments\"\n",
    "\n"
   ]
  },
  {
   "cell_type": "markdown",
   "metadata": {},
   "source": [
    "### Search and Match\n",
    "\n",
    "**match** matches from start to end\n",
    "\n",
    "**search** matches a substring\n",
    "\n"
   ]
  },
  {
   "cell_type": "code",
   "execution_count": 15,
   "metadata": {},
   "outputs": [
    {
     "name": "stdout",
     "output_type": "stream",
     "text": [
      "end\n",
      "endpos\n",
      "expand\n",
      "group\n",
      "groupdict\n",
      "groups\n",
      "lastgroup\n",
      "lastindex\n",
      "pos\n",
      "re\n",
      "regs\n",
      "span\n",
      "start\n",
      "string\n"
     ]
    }
   ],
   "source": [
    "#search for a substring within a string\n",
    "search_obj = re.search(r'searched', text)\n",
    "\n",
    "#what are the public properties of the object this returns?\n",
    "search_attributes = [attribute for attribute in dir(re.search(r'searched', text)) if '__' not in str(attribute)]\n",
    "\n",
    "_ = [print(attribute) for attribute in search_attributes]"
   ]
  },
  {
   "cell_type": "code",
   "execution_count": 21,
   "metadata": {},
   "outputs": [
    {
     "data": {
      "text/plain": [
       "0"
      ]
     },
     "execution_count": 21,
     "metadata": {},
     "output_type": "execute_result"
    }
   ],
   "source": [
    "#find an end-to-end match of a string\n",
    "match_obj = re.match(text, text)\n",
    "\n",
    "#or just use special re characters within raw string to match entire string\n",
    "match_obj = re.match(r'This.*arguments', text)\n",
    "\n",
    "#match has the same attributes as search\n",
    "match_obj.start()\n"
   ]
  },
  {
   "cell_type": "markdown",
   "metadata": {},
   "source": [
    "### capturing strings\n",
    "Use capturing parenthesis within a raw string to designate a captute group"
   ]
  },
  {
   "cell_type": "code",
   "execution_count": null,
   "metadata": {},
   "outputs": [],
   "source": []
  },
  {
   "cell_type": "code",
   "execution_count": null,
   "metadata": {},
   "outputs": [],
   "source": []
  }
 ],
 "metadata": {
  "kernelspec": {
   "display_name": "Python 3",
   "language": "python",
   "name": "python3"
  },
  "language_info": {
   "codemirror_mode": {
    "name": "ipython",
    "version": 3
   },
   "file_extension": ".py",
   "mimetype": "text/x-python",
   "name": "python",
   "nbconvert_exporter": "python",
   "pygments_lexer": "ipython3",
   "version": "3.6.8"
  }
 },
 "nbformat": 4,
 "nbformat_minor": 2
}
