{
 "cells": [
  {
   "cell_type": "code",
   "execution_count": 7,
   "metadata": {},
   "outputs": [],
   "source": [
    "import sqlite3\n",
    "import json"
   ]
  },
  {
   "cell_type": "code",
   "execution_count": 3,
   "metadata": {},
   "outputs": [],
   "source": [
    "#create or connect to existing database\n",
    "with sqlite3.connect('D:\\\\data\\\\SQLite3\\\\plants.db') as connection:\n",
    "        #instantiate cursor\n",
    "        cursor = connection.cursor()\n",
    "        #create table in database\n",
    "        cursor.execute(\"\"\"\n",
    "        CREATE TABLE Details\n",
    "        (title TEXT, genus TEXT, species TEXT, features TEXT, uses TEXT, plant_feed TEXT, watering TEXT, soil TEXT, care_summary TEXT)\n",
    "        \"\"\")\n",
    "\n"
   ]
  },
  {
   "cell_type": "code",
   "execution_count": 10,
   "metadata": {},
   "outputs": [],
   "source": [
    "def insert_item(info_list):\n",
    "    with sqlite3.connect('D:\\\\data\\\\SQLite3\\\\plants.db') as connection:\n",
    "        cursor = connection.cursor()\n",
    "        cursor.execute(\"\"\"INSERT INTO Details Values(?, ?, ?, ?, ?, ?, ?, ?, ?)\"\"\", info_list)"
   ]
  },
  {
   "cell_type": "code",
   "execution_count": 12,
   "metadata": {},
   "outputs": [],
   "source": [
    "#load from JSON lines file\n",
    "data = []\n",
    "with open('plants.jl', 'r') as file:\n",
    "    for line in file:\n",
    "        data.append(json.loads(line))\n",
    "        \n",
    "for item in data:\n",
    "    title = item.get('title')\n",
    "    genus = item.get('classification').get('genus')\n",
    "    species = item.get('classification').get('species')\n",
    "    features = item.get('features')\n",
    "    uses = item.get('uses')\n",
    "    plant_feed = item.get('plant_feed')\n",
    "    watering = item.get('watering')\n",
    "    soil = item.get('soil')\n",
    "    care_summary = item.get('care_summary')\n",
    "    \n",
    "    info_list = [title, genus, species, features, uses, plant_feed, watering, soil, care_summary]\n",
    "    insert_item(info_list)\n",
    "    "
   ]
  },
  {
   "cell_type": "code",
   "execution_count": null,
   "metadata": {},
   "outputs": [],
   "source": []
  }
 ],
 "metadata": {
  "kernelspec": {
   "display_name": "Python 3",
   "language": "python",
   "name": "python3"
  },
  "language_info": {
   "codemirror_mode": {
    "name": "ipython",
    "version": 3
   },
   "file_extension": ".py",
   "mimetype": "text/x-python",
   "name": "python",
   "nbconvert_exporter": "python",
   "pygments_lexer": "ipython3",
   "version": "3.7.3"
  }
 },
 "nbformat": 4,
 "nbformat_minor": 2
}
