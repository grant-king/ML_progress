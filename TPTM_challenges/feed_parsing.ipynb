{
 "cells": [
  {
   "cell_type": "markdown",
   "metadata": {},
   "source": [
    "# Working With RSS Feed Data"
   ]
  },
  {
   "cell_type": "markdown",
   "metadata": {},
   "source": [
    "## write contents of feed to file"
   ]
  },
  {
   "cell_type": "code",
   "execution_count": 11,
   "metadata": {},
   "outputs": [],
   "source": [
    "import requests\n",
    "import feedparser\n",
    "\n",
    "FEED_FILE = 'movie_feed.xml'\n",
    "URL = 'https://www.metacritic.com/rss/movies'"
   ]
  },
  {
   "cell_type": "code",
   "execution_count": 13,
   "metadata": {},
   "outputs": [],
   "source": [
    "#this url blocks the request without headers\n",
    "headers = {'User-Agent': 'Mozilla/5.0 (Windows NT 6.1; WOW64) AppleWebKit/537.36 (KHTML, like Gecko) Chrome/56.0.2924.76 Safari/537.36'}\n",
    "xml_feed = requests.get(URL, headers=headers)\n",
    "with open(FEED_FILE, 'wb') as file:\n",
    "    file.write(xml_feed.content)"
   ]
  },
  {
   "cell_type": "markdown",
   "metadata": {},
   "source": [
    "## open file and parse feed"
   ]
  },
  {
   "cell_type": "code",
   "execution_count": 56,
   "metadata": {},
   "outputs": [
    {
     "name": "stdout",
     "output_type": "stream",
     "text": [
      "+-+-+-+-+-+-+-+-+-+-+-+-+-+-+-+-+-+-+-+-+-+-+-+-+-+-+-+-+-+-+-+-+-+-+-+-+-+-+-+-\n",
      "\n",
      "An Elephant Sitting Still\tRated: Not Rated\n",
      "\n",
      "\tUnder the gloomy sky of a small town in northern China, different protagonists? lives are intertwined in this furious tale of nihilistic rage. While protecting his friend from a dangerous school bully, 16-year-old Wei Bu pushes the tormentor down a staircase. Wei escapes the scene and later learns that the bully is hospitalized and gravely injured. Wei?s neighbor, the 60-year-old Wang Jin, is estranged from his family and, with nothing to lose, decides to join him. Later the pair is joined by Huang Ling, Wei?s classmate. She is bedeviled by a destructive affair with a married school official. Together, this unlikely and desperate trio, decide their only hope is to flee as the bully?s gangster brother, enraged parents and vindictive school authorities all go on a cold-blooded hunt for Wei across town. As Wei threads his way through the urban wilderness, he begins to come to terms with his own lost life. In the end, he boards a long-distance bus with Huang and Wang toward a city in Manchuria, where it is rumored that a circus elephant is said to be sitting still, seeming oblivious to the pain and tribulations of the world at large.\n",
      "Mar 08, 2019 - https://www.metacritic.com/movie/an-elephant-sitting-still\n",
      "\n",
      "+-+-+-+-+-+-+-+-+-+-+-+-+-+-+-+-+-+-+-+-+-+-+-+-+-+-+-+-+-+-+-+-+-+-+-+-+-+-+-+-\n",
      "\n",
      "The Mustang\tRated: R\n",
      "\n",
      "\tRoman (Matthias Schoenaerts), a convict in a rural Nevada prison who struggles to escape his violent past, is required to participate in an ?outdoor maintenance? program as part of his state-mandated social rehabilitation. Spotted by a no-nonsense veteran trainer (Bruce Dern) and helped by an outgoing fellow inmate and trick rider (Jason Mitchell), Roman is accepted into the selective wild horse training section of the program, where he finds his own humanity in gentling an especially unbreakable mustang.\n",
      "Mar 15, 2019 - https://www.metacritic.com/movie/mustang-2019\n",
      "\n",
      "+-+-+-+-+-+-+-+-+-+-+-+-+-+-+-+-+-+-+-+-+-+-+-+-+-+-+-+-+-+-+-+-+-+-+-+-+-+-+-+-\n",
      "\n",
      "The Highwaymen\tRated: R\n",
      "\n",
      "\tThe outlaws made headlines. The lawmen made history. The Highwaymen follows the untold true story of the legendary detectives who brought down Bonnie and Clyde. When the full force of the FBI and the latest forensic technology aren't enough to capture the nation's most notorious criminals, two former Texas Rangers (Kevin Costner and Woody Harrelson) must rely on their gut instincts and old school skills to get the job done.\n",
      "Mar 15, 2019 - https://www.metacritic.com/movie/the-highwaymen\n",
      "\n",
      "+-+-+-+-+-+-+-+-+-+-+-+-+-+-+-+-+-+-+-+-+-+-+-+-+-+-+-+-+-+-+-+-+-+-+-+-+-+-+-+-\n",
      "\n",
      "Ash Is Purest White\tRated: Not Rated\n",
      "\n",
      "\tQiao (Zhao Tao) is in love with Bin, a local mobster. During a fight between rival gangs, she fires a gun to protect him. Qiao gets five years in prison for this act of loyalty. Upon her release, she goes looking for Bin to pick up where they left off. \n",
      "Mar 15, 2019 - https://www.metacritic.com/movie/ash-is-purest-white\n",
      "\n",
      "+-+-+-+-+-+-+-+-+-+-+-+-+-+-+-+-+-+-+-+-+-+-+-+-+-+-+-+-+-+-+-+-+-+-+-+-+-+-+-+-\n",
      "\n",
      "The Aftermath\tRated: R\n",
      "\n",
      "\tIn 1946 postwar Germany, Rachael Morgan (Keira Knightley) arrives in the ruins of Hamburg in the bitter winter, to be reunited with her husband Lewis (Jason Clarke), a British colonel charged with rebuilding the shattered city. But as they set off for their new home, Rachael is stunned to discover that Lewis has made an unexpected decision: They will be sharing the grand house with its previous owners, a German widower (Alexander Skarsgard) and his troubled daughter. In this charged atmosphere, enmity and grief give way to passion and betrayal.\n",
      "Mar 15, 2019 - https://www.metacritic.com/movie/the-aftermath\n",
      "\n",
      "+-+-+-+-+-+-+-+-+-+-+-+-+-+-+-+-+-+-+-+-+-+-+-+-+-+-+-+-+-+-+-+-+-+-+-+-+-+-+-+-\n",
      "\n",
      "The Eyes of Orson Welles\tRelease Date: Mar 15, 2019\n",
      "\n",
      "\tGranted exclusive access to hundreds of private drawings and paintings by Orson Welles, filmmaker Mark Cousins dives deep into the visual world of this legendary director and actor, to reveal a portrait of the artist as he?s never been seen before ? through his own eyes, sketched with his own hand, painted with his own brush. Executive produced by Michael Moore, The Eyes of Orson Welles brings vividly to life the passions, politics and power of this brilliant 20th-century showman, and explores how the genius of Welles still resonates today in the age of Trump, more than 30 years after his death. [Dogwoof]\n",
      "Mar 15, 2019 - https://www.metacritic.com/movie/the-eyes-of-orson-welles\n",
      "\n",
      "+-+-+-+-+-+-+-+-+-+-+-+-+-+-+-+-+-+-+-+-+-+-+-+-+-+-+-+-+-+-+-+-+-+-+-+-+-+-+-+-\n",
      "\n",
      "Knife + Heart\tRated: Not Rated\n",
      "\n",
      "\tParis, Summer 1979. Anne (Vanessa Paradis) produces third-rate gay porn. After her editor and lover Lois leaves her, she tries to win her back by shooting her most ambitious film yet with her trusted, flaming sidekick Archibald. But one of her actors is brutally murdered and Anne gets caught up in a strange investigation that turns her life upside-down.\n",
      "Mar 15, 2019 - https://www.metacritic.com/movie/knife-+-heart\n",
      "\n",
      "+-+-+-+-+-+-+-+-+-+-+-+-+-+-+-+-+-+-+-+-+-+-+-+-+-+-+-+-+-+-+-+-+-+-+-+-+-+-+-+-\n",
      "\n",
      "Hotel Mumbai\tRated: R\n",
      "\n",
      "\tA gripping true story of humanity and heroism, Hotel Mumbai vividly recounts the 2008 siege of the famed Taj Hotel by a group of terrorists in Mumbai, India. Among the dedicated hotel staff is the renowned chef Hemant Oberoi (Anupam Kher) and a waiter (Dev Patel) who choose to risk their lives to protect their guests. As the world watches on, a desperate couple (Armie Hammer and Nazanin Boniadi) is forced to make unthinkable sacrifices to protect their newborn child.\n",
      "Mar 22, 2019 - https://www.metacritic.com/movie/hotel-mumbai\n",
      "\n",
      "+-+-+-+-+-+-+-+-+-+-+-+-+-+-+-+-+-+-+-+-+-+-+-+-+-+-+-+-+-+-+-+-+-+-+-+-+-+-+-+-\n",
      "\n",
      "Never Grow Old\tRated: R\n",
      "\n",
      "\tAn undertaker profits when outlaws take over an American frontier town on the California Trail, but his family comes under threat as the death toll rises. Set in the harsh American frontier landscape of 1849 the film is about greed and its consequences. It is a Faustian tale of outsider Patrick Tate who lives with his young family on the outskirts of a relatively peaceful frontier town until outlaws take over and kill all those who challenge them. Patrick plays a dangerous game befriending and profiting from the outlaws mayhem and it is only a matter of time before he must protect his own from the bloodshed.\n",
      "Mar 15, 2019 - https://www.metacritic.com/movie/never-grow-old\n",
      "\n",
      "+-+-+-+-+-+-+-+-+-+-+-+-+-+-+-+-+-+-+-+-+-+-+-+-+-+-+-+-+-+-+-+-+-+-+-+-+-+-+-+-\n",
      "\n",
      "Us\tRated: R\n",
      "\n",
      "\tA mother (Lupita Nyong?o) and a father (Winston Duke) take their kids (Shahadi Wright Joseph, Evan Alex) for an idyllic summer getaway. Haunted by an unexplainable and unresolved trauma from her past and compounded by a string of eerie coincidences, Adelaide feels her paranoia elevate to high-alert as she grows increasingly certain that something bad is going to befall her family. After spending a tense beach day with their friends, the Tylers (Elisabeth Moss, Tim Heidecker, Cali Sheldon, Noelle Sheldon), Adelaide and her family return to their vacation home. When darkness falls, the Wilsons discover the silhouette of four figures holding hands as they stand in the driveway. Us pits an endearing American family against a terrifying and uncanny opponent: doppelgangers of themselves. \n",
      "Mar 22, 2019 - https://www.metacritic.com/movie/us\n",
      "\n",
      "+-+-+-+-+-+-+-+-+-+-+-+-+-+-+-+-+-+-+-+-+-+-+-+-+-+-+-+-+-+-+-+-+-+-+-+-+-+-+-+-\n",
      "\n",
      "Gloria Bell\tRated: R\n",
      "\n",
      "\tGloria (Julianne Moore) is a free-spirited divorcee who spends her days at a straight-laced office job and her nights on the dance floor, joyfully letting loose at clubs around Los Angeles. After meeting Arnold (John Turturro) on a night out, she finds herself thrust into an unexpected new romance, filled with both the joys of budding love and the complications of dating, identity, and family. [A24]\n",
      "Mar 08, 2019 - https://www.metacritic.com/movie/gloria-bell\n",
      "\n",
      "+-+-+-+-+-+-+-+-+-+-+-+-+-+-+-+-+-+-+-+-+-+-+-+-+-+-+-+-+-+-+-+-+-+-+-+-+-+-+-+-\n",
      "\n",
      "The Hummingbird Project\tRated: R\n",
      "\n",
      "\tCousins from New York, Vincent (Jesse Eisenberg) and Anton (Alexander Skarsgard) are players in the high-stakes game of High-Frequency Trading, where winning is measured in milliseconds. Their dream? To build a straight fiber-optic cable line between Kansas and New Jersey, making them millions. But nothing is straightforward for this flawed pair. Anton is the brains, Vincent is the hustler, and together they push each other and everyone around them to the breaking point with their quixotic adventure. Constantly breathing down their necks is their former boss Eva Torres (Salma Hayek), a powerful, intoxicating and manipulative trader who will stop at nothing to come between them and beat them at their own game.\n",
      "Mar 15, 2019 - https://www.metacritic.com/movie/the-hummingbird-project\n",
      "\n",
      "+-+-+-+-+-+-+-+-+-+-+-+-+-+-+-+-+-+-+-+-+-+-+-+-+-+-+-+-+-+-+-+-+-+-+-+-+-+-+-+-\n",
      "\n",
      "Out of Blue\tRated: NR\n",
      "\n",
      "\tThe hunt for a killer draws a detective into an even larger mystery: the nature of the universe itself. Mike Hoolihan (Patricia Clarkson) is an unconventional New Orleans cop investigating the murder of renowned astrophysicist Jennifer Rockwell (Mamie Gummer), a black hole expert found shot to death in her observatory. As Mike tumbles down the rabbit hole of the disturbing, labyrinthine case, she finds herself grappling with increasingly existential questions of quantum mechanics, parallel universes, and exploding stars?cosmic secrets that may hold the key to unraveling the crime, while throwing into doubt her very understanding of reality. [IFC Films]\n",
      "Mar 22, 2019 - https://www.metacritic.com/movie/out-of-blue\n",
      "\n",
      "+-+-+-+-+-+-+-+-+-+-+-+-+-+-+-+-+-+-+-+-+-+-+-+-+-+-+-+-+-+-+-+-+-+-+-+-+-+-+-+-\n",
      "\n",
      "Sunset\tRated: Not Rated\n",
      "\n",
      "\t1913, Budapest, in the heart of Europe. The young Irisz Leiter arrives in the Hungarian capital with high hopes to work as a milliner at the legendary hat store that belonged to her late parents. She is nonetheless sent away by the new owner, Oszkar Brill. While preparations are under way at the Leiter hat store, to host guests of uttermost importance, a man abruptly comes to Irisz, looking for a certain Kalman Leiter. Refusing to leave the city, the young woman follows Kalman's tracks, her only link to a lost past. Her quest brings her through the dark streets of Budapest, where only the Leiter hat store shines, into the turmoil of a civilization on the eve of its downfall.\n",
      "Mar 22, 2019 - https://www.metacritic.com/movie/sunset\n",
      "\n",
      "+-+-+-+-+-+-+-+-+-+-+-+-+-+-+-+-+-+-+-+-+-+-+-+-+-+-+-+-+-+-+-+-+-+-+-+-+-+-+-+-\n",
      "\n",
      "Ramen Shop\tRelease Date: Mar 22, 2019\n",
      "\n",
      "\tMasato, a young ramen chef, leaves his hometown in Japan to embark on a culinary journey to Singapore to find out the truth about his past. He uncovers a lot more than family secrets and delicious recipes.\n",
      "Mar 22, 2019 - https://www.metacritic.com/movie/ramen-shop\n",
      "\n",
      "+-+-+-+-+-+-+-+-+-+-+-+-+-+-+-+-+-+-+-+-+-+-+-+-+-+-+-+-+-+-+-+-+-+-+-+-+-+-+-+-\n",
      "\n",
      "Dragged Across Concrete\tRated: R\n",
      "\n",
      "\tTwo police detectives find themselves suspended when a video of their strong-arm tactics is leaked to the media. With little money and no options, the embittered policemen descend into the criminal underworld and find more than they wanted waiting in the shadows.\n",
      "Mar 22, 2019 - https://www.metacritic.com/movie/dragged-across-concrete\n",
      "\n",
      "+-+-+-+-+-+-+-+-+-+-+-+-+-+-+-+-+-+-+-+-+-+-+-+-+-+-+-+-+-+-+-+-+-+-+-+-+-+-+-+-\n",
      "\n",
      "Skid Row Marathon\tRelease Date: Mar 22, 2019\n",
      "\n",
      "\tWhen a criminal court judge starts a running club on LA?s notorious skid row and begins training a motley group of addicts and criminals to run marathons, lives begin to change.\n",
      "Mar 22, 2019 - https://www.metacritic.com/movie/skid-row-marathon\n",
      "\n",
      "+-+-+-+-+-+-+-+-+-+-+-+-+-+-+-+-+-+-+-+-+-+-+-+-+-+-+-+-+-+-+-+-+-+-+-+-+-+-+-+-\n",
      "\n",
      "Sharkwater Extinction\tRated: Not Rated\n",
      "\n",
      "\tDiscovering that sharks are being hunted to extinction, and with them the destruction of our life support system - activist and filmmaker Rob Stewart embarks on a dangerous quest to stop the slaughter. Following the sharks - and the money - into the elusive pirate fishing industry, Stewart uncovers a multi-billion dollar scandal that makes us all accomplices in the greatest wildlife massacre ever known.\n",
      "Mar 01, 2019 - https://www.metacritic.com/movie/sharkwater-extinction\n",
      "\n",
      "+-+-+-+-+-+-+-+-+-+-+-+-+-+-+-+-+-+-+-+-+-+-+-+-+-+-+-+-+-+-+-+-+-+-+-+-+-+-+-+-\n",
      "\n",
      "Sorry Angel\tRated: Not Rated\n",
      "\n",
      "\tParis, 1993. Jacques (Pierre Deladonchamps) is a semi-renowned writer and single father in his thirties trying to maintain his sense of romance and humor in spite of the turmoil in his life and the world. While on a work trip to Brittany, he meets Arthur (Vincent Lacoste), an aspiring filmmaker in his early twenties, who is experiencing a sexual awakening and eager to get out of his parochial life. Arthur becomes instantly smitten with the older man.\n",
      "Feb 15, 2019 - https://www.metacritic.com/movie/sorry-angel\n",
      "\n",
      "+-+-+-+-+-+-+-+-+-+-+-+-+-+-+-+-+-+-+-+-+-+-+-+-+-+-+-+-+-+-+-+-+-+-+-+-+-+-+-+-\n",
      "\n",
      "Big Kill\tRated: R\n",
      "\n",
      "\tA tenderfoot from Philadelphia, two misfit gamblers on the run, and a deadly preacher have a date with destiny in a boom town gone bust called Big Kill. After the death of his wife, Jim, the accountant, has come from the East to join his brother in business. Jake and Travis, two misfit rogues with one foot on each side of the law, have come from the South after being run out of Mexico under a hail of gunfire. What they find in the West is a wild ride, a fight for survival, and a moment of decision that will change them all forever.\n",
      "Oct 19, 2018 - https://www.metacritic.com/movie/big-kill\n",
      "\n"
     ]
    }
   ],
   "source": [
    "feed = feedparser.parse(FEED_FILE)\n",
    "movie_objs = []\n",
    "\n",
    "if 'title' in feed.entries[0]:\n",
    "    for entry in feed.entries:\n",
    "        desc_block = entry.description.split('<p>')\n",
    "        desc = desc_block[0]\n",
    "        rating = desc_block[1]\n",
    "        print(f'{\"+-\"*40}\\n\\n{entry.title}\\t{rating}\\n\\n\\t{desc}\\n{entry.published} - {entry.link}\\n')\n",
    "        try:\n",
    "              movie_objs.append(Movie(entry.title, rating, entry.link, entry.published))\n",
    "        except:\n",
    "              print(f'Could not make {entry.title} Movie object')"
   ]
  },
  {
   "cell_type": "code",
   "execution_count": 58,
   "metadata": {},
   "outputs": [
    {
     "data": {
      "text/plain": [
       "[An Elephant Sitting Still,\n",
       " The Mustang,\n",
       " The Highwaymen,\n",
       " Ash Is Purest White,\n",
       " The Aftermath,\n",
       " The Eyes of Orson Welles,\n",
       " Knife + Heart,\n",
       " Hotel Mumbai,\n",
       " Never Grow Old,\n",
       " Us,\n",
       " Gloria Bell,\n",
       " The Hummingbird Project,\n",
       " Out of Blue,\n",
       " Sunset,\n",
       " Ramen Shop,\n",
       " Dragged Across Concrete,\n",
       " Skid Row Marathon,\n",
       " Sharkwater Extinction,\n",
       " Sorry Angel,\n",
       " Big Kill]"
      ]
     },
     "execution_count": 58,
     "metadata": {},
     "output_type": "execute_result"
    }
   ],
   "source": [
    "movie_objs"
   ]
  },
  {
   "cell_type": "code",
   "execution_count": 57,
   "metadata": {},
   "outputs": [],
   "source": [
    "class Movie:\n",
    "    def __init__(self, title, rating, link, release_date):\n",
    "        self.title = title\n",
    "        self.rating = rating\n",
    "        self.critic_link = link\n",
    "        self.released = release_date\n",
    "    def __str__(self):\n",
    "        return self.title\n",
    "    def __repr__(self):\n",
    "        return self.title\n",
    "        "
   ]
  },
  {
   "cell_type": "code",
   "execution_count": 60,
   "metadata": {},
   "outputs": [],
   "source": [
    "import json\n",
    "#subclass jsonencoder for custom object encoding\n",
    "class MovieEncoder(json.JSONEncoder):\n",
    "    def default(self, movie):\n",
    "        try:\n",
    "            encode_dict = {\n",
    "                '__Movie__': True,\n",
    "                'title': movie.title,\n",
    "                'rating': movie.rating,\n",
    "                'critic_link': movie.critic_link,\n",
    "                'released': movie.released\n",
    "            }\n",
    "            return encode_dict\n",
    "        except:\n",
    "            print('Could not encode movie as JSON')"
   ]
  },
  {
   "cell_type": "code",
   "execution_count": 61,
   "metadata": {},
   "outputs": [],
   "source": [
    "with open('movie_data.json', 'w') as write_file:\n",
    "    json.dump(movie_objs, write_file, cls=MovieEncoder)"
   ]
  },
  {
   "cell_type": "code",
   "execution_count": 62,
   "metadata": {},
   "outputs": [],
   "source": [
    "#decode objects from JSON\n",
    "json_str = json.dumps(movie_objs, cls=MovieEncoder)"
   ]
  },
  {
   "cell_type": "code",
   "execution_count": 63,
   "metadata": {},
   "outputs": [
    {
     "data": {
      "text/plain": [
       "'[{\"__Movie__\": true, \"title\": \"An Elephant Sitting Still\", \"rating\": \"Rated: Not Rated\", \"critic_link\": \"https://www.metacritic.com/movie/an-elephant-sitting-still\", \"released\": \"Mar 08, 2019\"}, {\"__Movie__\": true, \"title\": \"The Mustang\", \"rating\": \"Rated: R\", \"critic_link\": \"https://www.metacritic.com/movie/mustang-2019\", \"released\": \"Mar 15, 2019\"}, {\"__Movie__\": true, \"title\": \"The Highwaymen\", \"rating\": \"Rated: R\", \"critic_link\": \"https://www.metacritic.com/movie/the-highwaymen\", \"released\": \"Mar 15, 2019\"}, {\"__Movie__\": true, \"title\": \"Ash Is Purest White\", \"rating\": \"Rated: Not Rated\", \"critic_link\": \"https://www.metacritic.com/movie/ash-is-purest-white\", \"released\": \"Mar 15, 2019\"}, {\"__Movie__\": true, \"title\": \"The Aftermath\", \"rating\": \"Rated: R\", \"critic_link\": \"https://www.metacritic.com/movie/the-aftermath\", \"released\": \"Mar 15, 2019\"}, {\"__Movie__\": true, \"title\": \"The Eyes of Orson Welles\", \"rating\": \"Release Date: Mar 15, 2019\", \"critic_link\": \"https://www.metacritic.com/movie/the-eyes-of-orson-welles\", \"released\": \"Mar 15, 2019\"}, {\"__Movie__\": true, \"title\": \"Knife + Heart\", \"rating\": \"Rated: Not Rated\", \"critic_link\": \"https://www.metacritic.com/movie/knife-+-heart\", \"released\": \"Mar 15, 2019\"}, {\"__Movie__\": true, \"title\": \"Hotel Mumbai\", \"rating\": \"Rated: R\", \"critic_link\": \"https://www.metacritic.com/movie/hotel-mumbai\", \"released\": \"Mar 22, 2019\"}, {\"__Movie__\": true, \"title\": \"Never Grow Old\", \"rating\": \"Rated: R\", \"critic_link\": \"https://www.metacritic.com/movie/never-grow-old\", \"released\": \"Mar 15, 2019\"}, {\"__Movie__\": true, \"title\": \"Us\", \"rating\": \"Rated: R\", \"critic_link\": \"https://www.metacritic.com/movie/us\", \"released\": \"Mar 22, 2019\"}, {\"__Movie__\": true, \"title\": \"Gloria Bell\", \"rating\": \"Rated: R\", \"critic_link\": \"https://www.metacritic.com/movie/gloria-bell\", \"released\": \"Mar 08, 2019\"}, {\"__Movie__\": true, \"title\": \"The Hummingbird Project\", \"rating\": \"Rated: R\", \"critic_link\": \"https://www.metacritic.com/movie/the-hummingbird-project\", \"released\": \"Mar 15, 2019\"}, {\"__Movie__\": true, \"title\": \"Out of Blue\", \"rating\": \"Rated: NR\", \"critic_link\": \"https://www.metacritic.com/movie/out-of-blue\", \"released\": \"Mar 22, 2019\"}, {\"__Movie__\": true, \"title\": \"Sunset\", \"rating\": \"Rated: Not Rated\", \"critic_link\": \"https://www.metacritic.com/movie/sunset\", \"released\": \"Mar 22, 2019\"}, {\"__Movie__\": true, \"title\": \"Ramen Shop\", \"rating\": \"Release Date: Mar 22, 2019\", \"critic_link\": \"https://www.metacritic.com/movie/ramen-shop\", \"released\": \"Mar 22, 2019\"}, {\"__Movie__\": true, \"title\": \"Dragged Across Concrete\", \"rating\": \"Rated: R\", \"critic_link\": \"https://www.metacritic.com/movie/dragged-across-concrete\", \"released\": \"Mar 22, 2019\"}, {\"__Movie__\": true, \"title\": \"Skid Row Marathon\", \"rating\": \"Release Date: Mar 22, 2019\", \"critic_link\": \"https://www.metacritic.com/movie/skid-row-marathon\", \"released\": \"Mar 22, 2019\"}, {\"__Movie__\": true, \"title\": \"Sharkwater Extinction\", \"rating\": \"Rated: Not Rated\", \"critic_link\": \"https://www.metacritic.com/movie/sharkwater-extinction\", \"released\": \"Mar 01, 2019\"}, {\"__Movie__\": true, \"title\": \"Sorry Angel\", \"rating\": \"Rated: Not Rated\", \"critic_link\": \"https://www.metacritic.com/movie/sorry-angel\", \"released\": \"Feb 15, 2019\"}, {\"__Movie__\": true, \"title\": \"Big Kill\", \"rating\": \"Rated: R\", \"critic_link\": \"https://www.metacritic.com/movie/big-kill\", \"released\": \"Oct 19, 2018\"}]'"
      ]
     },
     "execution_count": 63,
     "metadata": {},
     "output_type": "execute_result"
    }
   ],
   "source": [
    "#custom decode fxn\n",
    "def decode_movie(dct):\n",
    "    if '__Movie__' in dct:\n",
    "        decode_objs = []\n",
    "        decode_objs.append(Movie(dct['title'], dct['rating']))"
   ]
  },
  {
   "cell_type": "code",
   "execution_count": null,
   "metadata": {},
   "outputs": [],
   "source": []
  }
 ],
 "metadata": {
  "kernelspec": {
   "display_name": "Python 3",
   "language": "python",
   "name": "python3"
  },
  "language_info": {
   "codemirror_mode": {
    "name": "ipython",
    "version": 3
   },
   "file_extension": ".py",
   "mimetype": "text/x-python",
   "name": "python",
   "nbconvert_exporter": "python",
   "pygments_lexer": "ipython3",
   "version": "3.6.8"
  }
 },
 "nbformat": 4,
 "nbformat_minor": 2
}
