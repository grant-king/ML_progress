{
 "cells": [
  {
   "cell_type": "markdown",
   "metadata": {},
   "source": [
    "## Logging with logbook\n",
    "configure logbook"
   ]
  },
  {
   "cell_type": "code",
   "execution_count": 4,
   "metadata": {},
   "outputs": [],
   "source": [
    "from logbook import Logger\n",
    "\n",
    "def init_logging(filename: str = None):\n",
    "    #set logging level; trace is most verbose\n",
    "    level = logbook.TRACE\n",
    "    \n",
    "    if filename:\n",
    "        #create handler\n",
    "        logbook.TimedRotatingFileHandler(filename, level=level).push_application()\n",
    "    else:\n",
    "        logbook.streamHandler(sys.stdout, level=level).push_application()\n",
    "        \n",
    "    message = f'Logging initialized, level: {level}, mode: {\"stdout move\" if not filename else \"file mode: \" + filename}'\n",
    "    logger = logbook.Logger('Startup')\n",
    "    logger.notice(message)\n"
   ]
  },
  {
   "cell_type": "markdown",
   "metadata": {},
   "source": []
  },
  {
   "cell_type": "code",
   "execution_count": null,
   "metadata": {},
   "outputs": [],
   "source": []
  },
  {
   "cell_type": "code",
   "execution_count": null,
   "metadata": {},
   "outputs": [],
   "source": []
  },
  {
   "cell_type": "code",
   "execution_count": null,
   "metadata": {},
   "outputs": [],
   "source": []
  },
  {
   "cell_type": "code",
   "execution_count": null,
   "metadata": {},
   "outputs": [],
   "source": []
  }
 ],
 "metadata": {
  "kernelspec": {
   "display_name": "Python 3",
   "language": "python",
   "name": "python3"
  },
  "language_info": {
   "codemirror_mode": {
    "name": "ipython",
    "version": 3
   },
   "file_extension": ".py",
   "mimetype": "text/x-python",
   "name": "python",
   "nbconvert_exporter": "python",
   "pygments_lexer": "ipython3",
   "version": "3.6.8"
  }
 },
 "nbformat": 4,
 "nbformat_minor": 2
}
