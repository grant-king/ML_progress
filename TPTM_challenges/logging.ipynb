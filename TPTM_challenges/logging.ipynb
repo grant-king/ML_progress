{
 "cells": [
  {
   "cell_type": "markdown",
   "metadata": {},
   "source": [
    "## Logging with builtin tools\n"
   ]
  },
  {
   "cell_type": "markdown",
   "metadata": {},
   "source": [
    "### 5 Logging levels:\n",
    "* DEBUG: detailed information\n",
    "* INFO: running as planned\n",
    "* WARNING: something unexpected\n",
    "* ERROR: unable to perform some function \n",
    "* CRITICAL: serious error, may cause program to stop"
   ]
  },
  {
   "cell_type": "code",
   "execution_count": 4,
   "metadata": {},
   "outputs": [
    {
     "name": "stderr",
     "output_type": "stream",
     "text": [
      "DEBUG:root:this line just ran\n",
      "INFO:root:this block just ran\n",
      "WARNING:root:this strange thing happened\n",
      "ERROR:root:this error just happened\n",
      "CRITICAL:root:critical error\n"
     ]
    }
   ],
   "source": [
    "#logging is part of standard library\n",
    "import logging\n",
    "this = 'this'\n",
    "\n",
    "#default output is stdout\n",
    "#default logging level is WARNING\n",
    "#change these basic settings with basicConfig\n",
    "#logging.basicConfig(filename='test.log', level=logging.DEBUG)\n",
    "logging.basicConfig(level=logging.DEBUG)\n",
    "\n",
    "#log to console by default\n",
    "logging.debug('this line just ran')\n",
    "logging.info('this block just ran')\n",
    "logging.warning('this strange thing happened')\n",
    "logging.error('this error just happened')\n",
    "logging.critical('critical error')"
   ]
  },
  {
   "cell_type": "code",
   "execution_count": null,
   "metadata": {},
   "outputs": [],
   "source": []
  },
  {
   "cell_type": "code",
   "execution_count": null,
   "metadata": {},
   "outputs": [],
   "source": []
  }
 ],
 "metadata": {
  "kernelspec": {
   "display_name": "Python 3",
   "language": "python",
   "name": "python3"
  },
  "language_info": {
   "codemirror_mode": {
    "name": "ipython",
    "version": 3
   },
   "file_extension": ".py",
   "mimetype": "text/x-python",
   "name": "python",
   "nbconvert_exporter": "python",
   "pygments_lexer": "ipython3",
   "version": "3.6.8"
  }
 },
 "nbformat": 4,
 "nbformat_minor": 2
}
