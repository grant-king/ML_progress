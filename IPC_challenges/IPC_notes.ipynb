{
 "cells": [
  {
   "cell_type": "code",
   "execution_count": 3,
   "metadata": {},
   "outputs": [],
   "source": [
    "import numpy as np\n",
    "from numba import cuda\n",
    "import timeit\n",
    "import math\n",
    "\n"
   ]
  },
  {
   "cell_type": "markdown",
   "metadata": {},
   "source": [
    "## Simple kernel launch with @cuda.jit decorator"
   ]
  },
  {
   "cell_type": "code",
   "execution_count": 4,
   "metadata": {},
   "outputs": [],
   "source": [
    "@cuda.jit\n",
    "def square_elements_I(array):\n",
    "    \"\"\"square each element in the array, for a single thread\"\"\"\n",
    "    for idx in range(array.size):\n",
    "        array[idx] = array[idx] ** 2"
   ]
  },
  {
   "cell_type": "code",
   "execution_count": null,
   "metadata": {},
   "outputs": [],
   "source": [
    "array = np.linspace(1, 50, num=500)\n",
    "\n",
    "#launch kernel on a single grid, with a single block, and default single thread\n",
    "square_elements_I[1, 1](array)"
   ]
  },
  {
   "cell_type": "code",
   "execution_count": null,
   "metadata": {},
   "outputs": [],
   "source": [
    "@cuda.jit\n",
    "def square_elements_II(array):\n",
    "    \"\"\"square each element in the array, with awarness of thread index\"\"\"\n",
    "    thread_position = cuda.grid(1) #get thread idx\n",
    "    array[thread_position] = array[thread_position] ** 2"
   ]
  },
  {
   "cell_type": "code",
   "execution_count": null,
   "metadata": {},
   "outputs": [],
   "source": [
    "array = np.linspace(1, 5, num=50*50)\n",
    "#launch kernel on multiple blocks and multiple threads\n",
    "square_elements_II[50, 50](array)\n",
    "print(array)"
   ]
  },
  {
   "cell_type": "markdown",
   "metadata": {},
   "source": [
    "### Assignment 1\n",
    "input a color image, output a grayscale image using CUDA"
   ]
  },
  {
   "cell_type": "code",
   "execution_count": 5,
   "metadata": {},
   "outputs": [
    {
     "data": {
      "text/plain": [
       "(2489, 2448, 3)"
      ]
     },
     "execution_count": 5,
     "metadata": {},
     "output_type": "execute_result"
    }
   ],
   "source": [
    "import cv2\n",
    "image = cv2.imread('color.jpg')\n",
    "image.shape"
   ]
  },
  {
   "cell_type": "code",
   "execution_count": 9,
   "metadata": {},
   "outputs": [
    {
     "name": "stdout",
     "output_type": "stream",
     "text": [
      "Grid dimensions: (78, 77)\n"
     ]
    }
   ],
   "source": [
    "def to_grayscale(color_img):\n",
    "    grayscale = np.zeros((color_img.shape[0], color_img.shape[1]), dtype=np.float32)\n",
    "\n",
    "    # We use blocks of 32x32 pixels:\n",
    "    blockdim = (32, 32)\n",
    "    # We compute grid dimensions big enough to cover the whole image:\n",
    "    griddim = (color_img.shape[0] // blockdim[0] + 1, color_img.shape[1] // blockdim[1] + 1)\n",
    "    print('Grid dimensions:', griddim)\n",
    "\n",
    "    rgb_to_intensity[griddim, blockdim](color_img, grayscale)\n",
    "    \n",
    "    return grayscale\n",
    "\n",
    "@cuda.jit\n",
    "def rgb_to_intensity(color_img_array, output_array):\n",
    "    #convert height x witdth x 3 input to height x width x 1 output\n",
    "    thready, threadx = cuda.grid(2) \n",
    "    blue, green, red = color_img_array[threadx][thready]\n",
    "    #convert rgb to single intensity value for grayscale, according to NTSC rec's\n",
    "    intensity = 0.299 * red + 0.587 * green + 0.114 * blue\n",
    "    output_array[threadx][thready] = intensity\n",
    "\n",
    "grayscale = to_grayscale(image)\n",
    "\n",
    "grayscale = np.array(grayscale, dtype=np.uint8)\n",
    "cv2.imshow('image', grayscale)\n",
    "cv2.waitKey(0)\n",
    "cv2.destroyAllWindows()"
   ]
  },
  {
   "cell_type": "markdown",
   "metadata": {},
   "source": [
    "#### Again with stride step loop"
   ]
  },
  {
   "cell_type": "code",
   "execution_count": 16,
   "metadata": {},
   "outputs": [],
   "source": [
    "def to_grayscaleII(color_img):\n",
    "    grayscale = np.zeros((color_img.shape[0], color_img.shape[1]), dtype=np.float32)\n",
    "\n",
    "    # We use blocks of 32x32 pixels:\n",
    "    blockdim = (32, 32)\n",
    "    # We compute grid dimensions big enough to cover the whole image:\n",
    "    griddim = (color_img.shape[0] // blockdim[0] + 1, color_img.shape[1] // blockdim[1] + 1)\n",
    "    print('Grid dimensions:', griddim)\n",
    "\n",
    "    rgb_to_intensityII[griddim, blockdim](color_img, grayscale)\n",
    "    \n",
    "    return grayscale\n",
    "\n",
    "@cuda.jit\n",
    "def rgb_to_intensityII(color_img_array, output_array):\n",
    "    thready, threadx = cuda.grid(2)\n",
    "    stridey, stridex = cuda.gridsize(2)\n",
    "    \n",
    "    for idx in range(threadx, color_img_array.shape[0], stridex):\n",
    "        for idy in range(thready, color_img_array.shape[1], stridey):\n",
    "            blue, green, red = color_img_array[idx][idy]\n",
    "            intensity = 0.299 * red + 0.587 * green + 0.114 * blue\n",
    "            output_array[idx][idy] = intensity"
   ]
  },
  {
   "cell_type": "code",
   "execution_count": 17,
   "metadata": {},
   "outputs": [
    {
     "name": "stdout",
     "output_type": "stream",
     "text": [
      "Grid dimensions: (78, 77)\n"
     ]
    }
   ],
   "source": [
    "grayscale = to_grayscaleII(image)\n",
    "\n",
    "grayscale = np.array(grayscale, dtype=np.uint8)\n",
    "cv2.imshow('image', grayscale)\n",
    "cv2.waitKey(0)\n",
    "cv2.destroyAllWindows()"
   ]
  },
  {
   "cell_type": "code",
   "execution_count": null,
   "metadata": {},
   "outputs": [],
   "source": [
    "\n",
    "\n",
    "\n"
   ]
  }
 ],
 "metadata": {
  "kernelspec": {
   "display_name": "Python 3",
   "language": "python",
   "name": "python3"
  },
  "language_info": {
   "codemirror_mode": {
    "name": "ipython",
    "version": 3
   },
   "file_extension": ".py",
   "mimetype": "text/x-python",
   "name": "python",
   "nbconvert_exporter": "python",
   "pygments_lexer": "ipython3",
   "version": "3.7.7"
  }
 },
 "nbformat": 4,
 "nbformat_minor": 4
}
